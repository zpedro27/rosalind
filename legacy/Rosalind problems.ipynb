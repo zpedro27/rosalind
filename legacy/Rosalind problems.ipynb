{
 "cells": [
  {
   "cell_type": "markdown",
   "metadata": {
    "heading_collapsed": true
   },
   "source": [
    "## Counting DNA Nucleotides"
   ]
  },
  {
   "cell_type": "markdown",
   "metadata": {
    "hidden": true
   },
   "source": [
    "Problem\n",
    "A string is simply an ordered collection of symbols selected from some alphabet and formed into a word; the length of a string is the number of symbols that it contains.\n",
    "\n",
    "An example of a length 21 DNA string (whose alphabet contains the symbols 'A', 'C', 'G', and 'T') is \"ATGCTTCAGAAAGGTCTTACG.\"\n",
    "\n",
    "Given: A DNA string s of length at most 1000 nt.\n",
    "\n",
    "Return: Four integers (separated by spaces) counting the respective number of times that the symbols 'A', 'C', 'G', and 'T' occur in s."
   ]
  },
  {
   "cell_type": "code",
   "execution_count": 47,
   "metadata": {
    "hidden": true
   },
   "outputs": [],
   "source": [
    "f = open(\"rosalind_dna1.txt\", \"r\")\n",
    "a = f.read()"
   ]
  },
  {
   "cell_type": "code",
   "execution_count": 48,
   "metadata": {
    "hidden": true
   },
   "outputs": [],
   "source": [
    "def count_bases(x):\n",
    "    counter = {\"A\": 0,\n",
    "               \"C\": 0,\n",
    "               \"G\": 0,\n",
    "               \"T\": 0}\n",
    "    for base in x:\n",
    "        try:\n",
    "            counter[base] += 1\n",
    "        except KeyError:\n",
    "            print(\"unknown character\")\n",
    "    return counter\n",
    "\n",
    "def cast_result(counter_dict):\n",
    "    return \"{} {} {} {}\".format(counter_dict[\"A\"], counter_dict[\"C\"], counter_dict[\"G\"], counter_dict[\"T\"])"
   ]
  },
  {
   "cell_type": "code",
   "execution_count": 49,
   "metadata": {
    "hidden": true
   },
   "outputs": [
    {
     "name": "stdout",
     "output_type": "stream",
     "text": [
      "unknown character\n"
     ]
    },
    {
     "data": {
      "text/plain": [
       "'202 212 230 200'"
      ]
     },
     "execution_count": 49,
     "metadata": {},
     "output_type": "execute_result"
    }
   ],
   "source": [
    "res = count_bases(a)\n",
    "cast_result(res)"
   ]
  },
  {
   "cell_type": "code",
   "execution_count": 50,
   "metadata": {
    "hidden": true
   },
   "outputs": [
    {
     "data": {
      "text/plain": [
       "{'A': 202, 'C': 212, 'G': 230, 'T': 200}"
      ]
     },
     "execution_count": 50,
     "metadata": {},
     "output_type": "execute_result"
    }
   ],
   "source": [
    "res"
   ]
  },
  {
   "cell_type": "code",
   "execution_count": 51,
   "metadata": {
    "hidden": true
   },
   "outputs": [
    {
     "data": {
      "text/plain": [
       "844"
      ]
     },
     "execution_count": 51,
     "metadata": {},
     "output_type": "execute_result"
    }
   ],
   "source": [
    "total = np.array([x for k, x in res.items()])\n",
    "np.sum(total)\n"
   ]
  },
  {
   "cell_type": "code",
   "execution_count": 52,
   "metadata": {
    "hidden": true
   },
   "outputs": [
    {
     "data": {
      "text/plain": [
       "845"
      ]
     },
     "execution_count": 52,
     "metadata": {},
     "output_type": "execute_result"
    }
   ],
   "source": [
    "len(a)"
   ]
  },
  {
   "cell_type": "markdown",
   "metadata": {
    "heading_collapsed": true
   },
   "source": [
    "## Transcribing DNA into RNA"
   ]
  },
  {
   "cell_type": "markdown",
   "metadata": {
    "hidden": true
   },
   "source": [
    "Problem\n",
    "An RNA string is a string formed from the alphabet containing 'A', 'C', 'G', and 'U'.\n",
    "\n",
    "Given a DNA string t corresponding to a coding strand, its transcribed RNA string u is formed by replacing all occurrences of 'T' in t with 'U' in u.\n",
    "\n",
    "Given: A DNA string t having length at most 1000 nt.\n",
    "\n",
    "Return: The transcribed RNA string of t."
   ]
  },
  {
   "cell_type": "code",
   "execution_count": 231,
   "metadata": {
    "hidden": true
   },
   "outputs": [],
   "source": [
    "def dna_to_rna(base):\n",
    "    if base.lower() == \"t\":\n",
    "        return \"U\"\n",
    "    elif base.lower() in [\"a\", \"c\", \"g\"]:\n",
    "        return base\n",
    "    else:\n",
    "        return \"\"\n",
    "\n",
    "def transcribe_strand(s):\n",
    "    t = [dna_to_rna(base) for base in s]\n",
    "    return \"\".join(t)"
   ]
  },
  {
   "cell_type": "code",
   "execution_count": 63,
   "metadata": {
    "hidden": true
   },
   "outputs": [
    {
     "data": {
      "text/plain": [
       "'ACAACGCCCAACAGCCCUUUUCUACUUCGUUUUUAAACAUCUUUAUACUUUUUGGCUUGAUUCCUCUGCCGAGUUCGCAGGUCGCCCCUAUACCGGUUCAAAGGCGAUAGGCGUUAGUUCACCAUAUUAGGCGGGUUCAUGCCUAGACACGGUACUGUGAUAGUACUAACGGCAGAUGAGUGCCCUCACAGGCUUUGGUCAAUUAAACUCCGGGAAUCUCCACCGCAUGCUGCAGGAUCUACCUAUGCUCCCCAAAGCACAGUUUUUCAAACGACUGGGGAGCAACACAGUCGAAGCGACGACAGCUACGUGCGCAUCGGCUCGACGAGGCCCCCACAUCGGGAAACCGACACAUAACAAGGAAUCAGCCUACUCCGUAUGGGACGGUUCCUUUAAUCUGAGGCUAAGAACUGCCCGCGUUGCAUUCCCUUGGUUUGGGAUGUAGUCGUCCCAUGUGGGUUCAGUACUAUAAAAUCUCAUUGGGCAGCCCUUACGCUUUCUUAAGCCUUGAGGGACAGGUCGACAUUACUAGCAUGGAAUGCGAGUCGACUAGUGCCGAGGGUUCCCCGGGCAGCAAGUCCGAAACUAGAUCAUCAUAAGUGGUAAGGUGGUUAGACAGAAGCGAAAAGGUAAUGCGACGCGCCCGGCGUGAAAAAUCGUACUGUAAAGGAGACGUGUUACCGAUUCAAUCUAUCAAGCGUUGCAGACCCGGUAAUAUGCGACUUAACCUCCUGAAAAAGCUAUGGACCUUAGGGGUCGUAUUGUUUUCGGCUUAUGCGCCCAUACUUGUACUUGAGUAGGAGGGGCGAAGCGGGUCCCUGACGGUCGUUUGUCAGUGUCGCACACUGAUGGACCGGUAUCGUAGCUCCCUCUAUGUAGUCUUUUUCUCGCAUCCAUACUUUUCGCUGUGCUGUCAGCAAAUCGGCCGGACAGACCCCAGCAGUAAGUCCGUUCAGCUAACAUAUAAAAGAUCG'"
      ]
     },
     "execution_count": 63,
     "metadata": {},
     "output_type": "execute_result"
    }
   ],
   "source": [
    "f = open(\"rosalind_rna.txt\", \"r\")\n",
    "a = f.read()\n",
    "transcribe_strand(a)"
   ]
  },
  {
   "cell_type": "code",
   "execution_count": 232,
   "metadata": {
    "hidden": true
   },
   "outputs": [],
   "source": [
    "b = transcribe_strand(a)"
   ]
  },
  {
   "cell_type": "markdown",
   "metadata": {
    "heading_collapsed": true
   },
   "source": [
    "## Complementing a Strand of DNA"
   ]
  },
  {
   "cell_type": "markdown",
   "metadata": {
    "hidden": true
   },
   "source": [
    "Problem\n",
    "In DNA strings, symbols 'A' and 'T' are complements of each other, as are 'C' and 'G'.\n",
    "\n",
    "The reverse complement of a DNA string s is the string sc formed by reversing the symbols of s, then taking the complement of each symbol (e.g., the reverse complement of \"GTCA\" is \"TGAC\").\n",
    "\n",
    "Given: A DNA string s of length at most 1000 bp.\n",
    "\n",
    "Return: The reverse complement sc of s."
   ]
  },
  {
   "cell_type": "code",
   "execution_count": 7,
   "metadata": {
    "hidden": true
   },
   "outputs": [],
   "source": [
    "def check_base(base):\n",
    "    if base.lower() in [\"a\", \"c\", \"g\", \"t\"]:\n",
    "        return base\n",
    "    else:\n",
    "        return \"\"\n",
    "\n",
    "def prune_strand(s):\n",
    "    s_ = [check_base(b) for b in s]\n",
    "    return \"\".join(s_)\n",
    "        \n",
    "def reverse_strand(s):\n",
    "    return s[::-1]\n",
    "\n",
    "def complementary_base(base):\n",
    "    compl_dict = {\"a\": \"T\", \"c\": \"G\", \"g\": \"C\", \"t\": \"A\"}\n",
    "    \n",
    "    try:\n",
    "        return compl_dict[base.lower()]\n",
    "    except KeyError:\n",
    "        print(\"Unknown base!\")\n",
    "        return \"_\"\n",
    "    \n",
    "def reverse_complement(s):\n",
    "    s_pruned = prune_strand(s)\n",
    "    s_rev = reverse_strand(s_pruned)\n",
    "    s_compl = [complementary_base(b) for b in s_rev]\n",
    "    return \"\".join(s_compl)"
   ]
  },
  {
   "cell_type": "code",
   "execution_count": 87,
   "metadata": {
    "hidden": true
   },
   "outputs": [
    {
     "data": {
      "text/plain": [
       "'GTGGGTTGCGATGAAGCATCTATCGATCTGCGAAGACACACTTAAGAAGGAAGGGGGTCTATCTGCAATTCGCCTGTACATTAATCAATGGGATATATAACCCTGACTAGCCACCATCTTTTTCATTTCCGGTTACAGCGTGTCCTCGTTATTCAAGCAGCCCGTACTCGCCCGCCATAGGTATGGTGCAGTGATTGGCGCATAATATTCCCCACAACATTCGTTCTAACGTAGTGAGTCGGATACGACGAGTCAGTCAAGCATTTAGCGGCGTTGTGAGACGCCTGAGTATATTAACGCCGGTTAGTCGTCGCGATCGAGGTTGGTAGTGAACCTTGTAAATAGTGGTAAGCGCTAGAGCGGCAGGGCTAGTCTCGTTCCTTCATAAACGCCTAGCAGTAGTACTGCTGTACCTGTATTGATTAGAACACCCTTCCCTCCGCACGACCACCCTGGGTACGACGTCAAGCCAATAGTTCTGTGAAGTTTACTATATCATTAACCCGTGCTTTTCCTCCCGGCGATCAATCATTCTCATGGAACACCCTCCGATGCAATTCGGGCGAAGCAGCGGCTTTATATATTCGTTATTCCGCAGTTCGGCGGGCTAGGGCCTACCTGGTTCTACATCCCAGTAAATCCTGCATTGCAGGCGGAGGAGGGGGGCCCAGACGAATTAATGCAAGGCCGTTTGTACCAACCTGAGAGCCGTCGCGACAATTTGGCATAGTGTGGCTATTGGTCCACCTCTGAAGTTCCCATACGCGCTCCGGAGGATCAGCCCATATGATGCCCCGGCCAGATCGACACCGTTATGATTGTCCGCCTATCACACCAGTAGAAAACTTGATGGAGTTGAGACCGGCAAGACAATGCTCAATAACCATAAAGATTAGTGTCACAACGACATATCA'"
      ]
     },
     "execution_count": 87,
     "metadata": {},
     "output_type": "execute_result"
    }
   ],
   "source": [
    "f = open(\"rosalind_revc.txt\", \"r\")\n",
    "a = f.read()\n",
    "\n",
    "reverse_complement(a)"
   ]
  },
  {
   "cell_type": "code",
   "execution_count": 88,
   "metadata": {
    "hidden": true
   },
   "outputs": [
    {
     "data": {
      "text/plain": [
       "'TGATATGTCGTTGTGACACTAATCTTTATGGTTATTGAGCATTGTCTTGCCGGTCTCAACTCCATCAAGTTTTCTACTGGTGTGATAGGCGGACAATCATAACGGTGTCGATCTGGCCGGGGCATCATATGGGCTGATCCTCCGGAGCGCGTATGGGAACTTCAGAGGTGGACCAATAGCCACACTATGCCAAATTGTCGCGACGGCTCTCAGGTTGGTACAAACGGCCTTGCATTAATTCGTCTGGGCCCCCCTCCTCCGCCTGCAATGCAGGATTTACTGGGATGTAGAACCAGGTAGGCCCTAGCCCGCCGAACTGCGGAATAACGAATATATAAAGCCGCTGCTTCGCCCGAATTGCATCGGAGGGTGTTCCATGAGAATGATTGATCGCCGGGAGGAAAAGCACGGGTTAATGATATAGTAAACTTCACAGAACTATTGGCTTGACGTCGTACCCAGGGTGGTCGTGCGGAGGGAAGGGTGTTCTAATCAATACAGGTACAGCAGTACTACTGCTAGGCGTTTATGAAGGAACGAGACTAGCCCTGCCGCTCTAGCGCTTACCACTATTTACAAGGTTCACTACCAACCTCGATCGCGACGACTAACCGGCGTTAATATACTCAGGCGTCTCACAACGCCGCTAAATGCTTGACTGACTCGTCGTATCCGACTCACTACGTTAGAACGAATGTTGTGGGGAATATTATGCGCCAATCACTGCACCATACCTATGGCGGGCGAGTACGGGCTGCTTGAATAACGAGGACACGCTGTAACCGGAAATGAAAAAGATGGTGGCTAGTCAGGGTTATATATCCCATTGATTAATGTACAGGCGAATTGCAGATAGACCCCCTTCCTTCTTAAGTGTGTCTTCGCAGATCGATAGATGCTTCATCGCAACCCAC\\n'"
      ]
     },
     "execution_count": 88,
     "metadata": {},
     "output_type": "execute_result"
    }
   ],
   "source": [
    "a"
   ]
  },
  {
   "cell_type": "markdown",
   "metadata": {
    "heading_collapsed": true
   },
   "source": [
    "## Computing GC Content"
   ]
  },
  {
   "cell_type": "markdown",
   "metadata": {
    "hidden": true
   },
   "source": [
    "Problem\n",
    "The GC-content of a DNA string is given by the percentage of symbols in the string that are 'C' or 'G'. For example, the GC-content of \"AGCTATAG\" is 37.5%. Note that the reverse complement of any DNA string has the same GC-content.\n",
    "\n",
    "DNA strings must be labeled when they are consolidated into a database. A commonly used method of string labeling is called FASTA format. In this format, the string is introduced by a line that begins with '>', followed by some labeling information. Subsequent lines contain the string itself; the first line to begin with '>' indicates the label of the next string.\n",
    "\n",
    "In Rosalind's implementation, a string in FASTA format will be labeled by the ID \"Rosalind_xxxx\", where \"xxxx\" denotes a four-digit code between 0000 and 9999.\n",
    "\n",
    "Given: At most 10 DNA strings in FASTA format (of length at most 1 kbp each).\n",
    "\n",
    "Return: The ID of the string having the highest GC-content, followed by the GC-content of that string. Rosalind allows for a default error of 0.001 in all decimal answers unless otherwise stated; please see the note on absolute error below."
   ]
  },
  {
   "cell_type": "code",
   "execution_count": 133,
   "metadata": {
    "hidden": true
   },
   "outputs": [],
   "source": [
    "def read_fasta(filename):\n",
    "    data = {}\n",
    "    with open(filename) as f:\n",
    "        lines = f.readlines()\n",
    "        for l in lines:\n",
    "            if l[0]==\">\":\n",
    "                key = l[1:].replace(\"\\n\", \"\")\n",
    "                data[key] = \"\"\n",
    "            else:\n",
    "                string = l\n",
    "                data[key] += string.replace(\"\\n\", \"\")\n",
    "    return data\n",
    "                    \n",
    "\n",
    "def determine_GC(sequence):\n",
    "    N = len(sequence)\n",
    "    gc_seq = np.array([1 for b in sequence if b.lower() in [\"c\", \"g\"]])\n",
    "    n_gc = np.sum(gc_seq)\n",
    "    return n_gc/N * 100\n",
    "\n",
    "def rank_highestGC(all_seqs):\n",
    "    gc_highest = 0\n",
    "    seq_highest = \"\"\n",
    "    for seq_name, seq in all_seqs.items():\n",
    "        gc_seq = determine_GC(seq)\n",
    "        if gc_seq > gc_highest:\n",
    "            gc_highest = gc_seq\n",
    "            seq_highest = seq_name\n",
    "            \n",
    "    return \"{}: {:.6f}\".format(seq_highest, gc_highest)\n",
    "        "
   ]
  },
  {
   "cell_type": "code",
   "execution_count": 136,
   "metadata": {
    "hidden": true,
    "scrolled": true
   },
   "outputs": [
    {
     "data": {
      "text/plain": [
       "{'Rosalind_8542': 'CGTTTCACGCCAATCCTTCCGCTCTGTGCACTCTAAGTCAGTCCGGAGCATGCCGTTGGCCTGGATGGGCAGGGAAACAGAGACAGCAATGACCTGCCTGAGATGATGCTGCTCGTGCGTGGGAACTGTGTCGATGATATGACCATGGGGAACAAGCGATCGGGATAAGATAGCTCCTTTTGGACCTGCCATCCCTCTTTACGTACGGGTTCTGCTTCCACTCTGTCATTGGTAACGTGTTGTCTGTCGAAACCACAGATATCTCTCATCCTGCCCATAAGACATTGTTCTCGAGGCAAGCATTTCACTACTTCAGAATTCCGTGTCGTAATTGAGACTGTCTCGCTGAGTTCTCGTCGGTCCTAGACTATGCGCGGGTTTGTGTATCCCCCCGGCTTGTATTACGACGTTGCCTCAGACTACAGAGGTGGACGAGTTATGGCATCCTCGCGCTCAAAGGCTCGCGATACACCGCGCCAAGACTAGCCGGCATAAGTTATACTACGAAGTCACGGCTCAATCAGCAACTGCGGCCATTGACTCCAGCCATCCTGTGCATACTAAACCACGTTAGATTACCACCGTCGATGCCAGCAAGTTGTTTGAGCAAAAAACCGAACGAAGACTGGGGGGAATTGTAAAACCGTGACGAATGCCCGTTGCAGTCTGAGTTCCTGGTAGAAGATATCCGGATCCTTATCTTTGGTTCACAAGGCGCCTGCCACCCCCGGCCGTTCGTAAGAGTCGAGTGGGGACCCGTCCATACACCACGGACATACGGTAGTTCTCACCCAGCGTTCACATCTGCGCCGCCAGGCCTCTCGTTTCAGGTAGACCCTCGATCTATTTCCCAGGACGGCTC',\n",
       " 'Rosalind_6521': 'ACGATCATGCCCCTATAAATTGGCCTGGAACTTACCCTTGCATGAGGCATGTTGTGACCCATTCAACCAACACTTAATATTATCTGGCTGCCGCTAAGCTGTCCCAGGCCTCCACTCCCTACCTACGCGCAGGATCGTTGAGTTAAAAAGCACACTCGGTGGTAATCTGCGCCTGCTACCGGTCTGGCCAGGGATTGCTGGTTGACCTTGGCGTTAGCTTCTCACGCATGCCGGAATGTGGTGTTGGTTTAACGGAGTTCCACCCTTTGCTCCATCCATTCCGAAATGAGGTACAGGACGGTTGTGTGATTCGAACTGCGACTAGAGGTTTACCGGGTATCGGTGCCCAACCAAACGCTCAAGAAGTATTAAACATCTAGCTAACAGTGCACTGGTGGTCGAGTTACTAGCCATTGACGGTCGTATACAGCGGTATCATGTAGTCGCAACGATGTGGGCGGAGCGCTCGAGGCCGTATAAGATCGGGAGAGTGTCACCCTATACTCTTTTACCCCGGGTTCCTGACTTTGGTAGACCACCATTTGGTGTTCAAAGCTGATCTTCGGGGTGTTACCGTGCACGTCCGACGAGAAACGGCATGGTCCACTGAAGAGTAAGCCTATACCGCTTGCTGAGCGGTTTCCTCTCTCTAAACTGAAGCTACGCACCCGGGTGAGCACTGTCACTGTACGTCGGATTTGCCAGTACTCTTAAGGGCTGTCTTTAAGAGTTACAGCAACGGATGATAGCACGGTGCCAGCCCATAATGCGGTCGGACTTATTCTACCAATTCCTGGCTACACACTCTTCAGTCGAGAACTGCTGGCATCCTGGCGGTCCATCGGTTGAAGAGTGCGCCGTACATTAGGGAAGGGGATTTATTTCACCCTTATGTTCCATGTAAGGTTGCATCCTTCTAGGGCTTCAGCCTGACACCCTAGCCATATACACGCAATCGGCAAAATTGAGCTAGGTGACCCATTGATAGTCATCCACGTGT',\n",
       " 'Rosalind_4155': 'TGGGCACCGGACACGCGACTCGTATCTGGCTTAGGTTGGAGAACACAACCAAGACAGTTCGAATGGAGTCTGGTTGGTCATATATCAGGATGGGTTAGGTTTAGGACTGTACTTCTGGAGGGCGGTAAACCGGCACGAAGCGTAGTCCAGGGAGGATTTCTTAGGAGTGACTCATGCAGAGGGAGCGGTAGCCGGTTGCCCAACCGGAACGCAATCTTAGACTGGGGACCCAGAGCTGCTTACTGCGTTTGGTCAGTCGTTGTCAAGGCTTACTCCCGGGGGCCCGAGAGGAATGAATTCGAGTCCTCCGCATTCTTACATGAGTCGACCACTTATTTACTTCATACTAGTTATCGGCCGTGTAGGGCAACAAGTGTCGATACGGTCTGAGCTTAATCATGCTACACTAAATTCCTATGAAAAGGCGGCTAGTAATACGTTGTGTAGCCCTGCGCTGGAATGAATCCTTCCGGAAATCATCTAGAAAGGAAGCGTCAGACGTCCTAGGGTCTGGGTCGACGGTTTTACTCTCATAACTTAATCAGTTATAGCACCCGAGTGTGATTGATCCTAGATCAGCATGTGTGTTCGGCGCTCAGGAAACCGGCCAAAAACCTAGTAGTGTGCTTGGTGTGTAACTGTCAGTTAGTGATTTCCCAATCCCGAAAGCCCGTTGGGTACCTCGTCTTATGCACAGACCGACATATGCTGCCCCCTTCCCACGCACGTTAAGGTGGCCCCAGGAGAGTGTCTTCAGACAACCCTACTAATTCCAACTAAAATTTCGAAGAGGGTTAAGACG',\n",
       " 'Rosalind_7343': 'ACCGACTTGGATGAGATGTAGCGCCTAAAGGATTGTGGTGCGCGTCGGAAGTAGCCGGTAGCGTTGACTGTCAAGGGTAGTCTGAGTAGTGCCATCAGTTCCGATTCAAGTTTCTACCGGGAAGCGATTACTAGTATCTCGTCCTAAAACTATTAATCTTAATTCAGTGGGTTGCATTAGTAAGTGTTTGATTCACACGACCAGTGACCTAATGGTGGAGCGTAGCAATCTGGATATCGGTCAAATAGTGGCACCATAATGTTTTATATATATGTTATGATCTTCCGGCAGTATGAGCTTCGTGCAGACCGGTGCCTTATCGATTCGACCGGTGCTGGGAGACAGCATTAATCGAATATCTTGGGGGTGGCAGATGCCTGGTAACTATATATGCATCTCCGCCGTCATGTCAGATGACGTTGCGCCAGATACGTTGCTTTGAGCAGACGGGTCGAATTTCTGGCTTTCTTCTTCGCAATACTACATAAATTGAGCGCCGGTCCGTTAGACTAGACGAAGCGTGCTGGGGGCTACAATCGGTGATCGTTTAAAGAAAGGCCTCCCTCAATACATGTGTTGGCAATCGAGCTTATCCCAGGCATCGAAACCACAAACCGTGCGCAAGCGGTGGTTTTGACTTCCTAAACGTGGGGGTGACCTACTCTTGGGAGTTCCCCTTCTTACGCCTTTCTTGGTATCGTGTGCCCCGTATCAAAGACTACGACTATGGCCTTTGCCGGCGCTGAAGCACACAGAAACTGGTGGCCGCGAGTCTTCGTACACAACACCTTGAGCACAACCCGGAGGGTTGCACAGAGCGCCGTTCGCCGTTTCCTCTTGTATTCCCCACTTAAATTCATAGATACTTTACTAAGAACCATCCACACGGTAGCTAGCATTTGTTTTAC',\n",
       " 'Rosalind_6695': 'CGACTTCTCATTCGAATGTCCTGGATAGCCTAGACTGACGCCCCCGTCACCTCCAGGAAACTTGTGTGGACCATACATGATGGGTTCCGATAGTCGTAGGGCTCATGACAAGTGTAGGAGATGCTTCTCTCGGGTTCAGGCTCCCATGCAATCTCATCTTCCCGGTATCGACACTCTATTCAAACCGTAAAGGTTTACTAGTTGGCCAGGCGATTGACGCCTCGCCTAGGAGTTAATAGCTGAAATAAGGGTCACTCGATGAAAATACTACCCCAGGAAGCTAGCAGCGGCCCTGGAGCGCAGCGGGCTGAGCCTTAGCTTGTATGCTTCATACAGAGAGAAAATCCCGACATCATACTGTAATAGGGAGGCACGGCTCTCGTCACCCGACTCCAAAAGCTCACGGGAAAGGGTACTAGCTGCGAGGATACCTCCTAATGATTTTCGGGTCCCCGATGATTGGGAACTCCTATAAAACCTCAGGCTTCGCAACGAGATAACCTTGGGACGTGACGGCTAGTTGGTTAGTAGCGGAATTAAATTTAAGTATGACCCGAGCAACTCATTCGAAGCCCATAACTCTTAACGAAAAGGCCTCATGTACTGTCCGACACGTTAACGTACAGTGGAACTAACCGTTGTGCACAGTTCTGAGATGGGCTTTTCATGTGGTGAACCCCTGCCGCCCGAGCTCCTATCTGCACGGGTATATGAACGTATTAACGCAATACGTGTAGTAATGTACGGGCGTACCGCAGCCTCGTGAGGTCTCGAGATTTGCGGATCGACGGGAACCGGGAACAGGGCGGAGGACCCTTATGGGCTCCCTCAACCTATCTGACAAAGAGGGTTATGCTTTGGCTAGCTAGGCCCCTCGATATC'}"
      ]
     },
     "execution_count": 136,
     "metadata": {},
     "output_type": "execute_result"
    }
   ],
   "source": [
    "data = read_fasta(\"rosalind_gc.txt\")\n",
    "data"
   ]
  },
  {
   "cell_type": "code",
   "execution_count": 137,
   "metadata": {
    "hidden": true
   },
   "outputs": [
    {
     "data": {
      "text/plain": [
       "'Rosalind_8542: 53.132251'"
      ]
     },
     "execution_count": 137,
     "metadata": {},
     "output_type": "execute_result"
    }
   ],
   "source": [
    "rank_highestGC(data)"
   ]
  },
  {
   "cell_type": "markdown",
   "metadata": {
    "heading_collapsed": true
   },
   "source": [
    "## Counting Point Mutations"
   ]
  },
  {
   "cell_type": "markdown",
   "metadata": {
    "hidden": true
   },
   "source": [
    "Problem\n",
    "\n",
    "Figure 2. The Hamming distance between these two strings is 7. Mismatched symbols are colored red.\n",
    "Given two strings s and t of equal length, the Hamming distance between s and t, denoted dH(s,t), is the number of corresponding symbols that differ in s and t. See Figure 2.\n",
    "\n",
    "Given: Two DNA strings s and t of equal length (not exceeding 1 kbp).\n",
    "\n",
    "Return: The Hamming distance dH(s,t)."
   ]
  },
  {
   "cell_type": "code",
   "execution_count": 228,
   "metadata": {
    "hidden": true
   },
   "outputs": [],
   "source": [
    "def _check_base(base):\n",
    "    if base.lower() in [\"a\", \"c\", \"g\", \"t\"]:\n",
    "        return base\n",
    "    else:\n",
    "        return \"\"\n",
    "\n",
    "def _prune_strand(s):\n",
    "    s_ = [_check_base(b) for b in s]\n",
    "    return \"\".join(s_)\n",
    "\n",
    "def hamming_distance(seq1, seq2):\n",
    "    diff = np.array([1 for b1, b2 in zip(seq1, seq2) if b1.lower() != b2.lower()])\n",
    "    return np.sum(diff)"
   ]
  },
  {
   "cell_type": "code",
   "execution_count": 229,
   "metadata": {
    "hidden": true
   },
   "outputs": [],
   "source": [
    "f = open(\"rosalind_hamm.txt\", \"r\")\n",
    "a = f.read()\n",
    "\n",
    "seq1, seq2, _ = a.split(\"\\n\")"
   ]
  },
  {
   "cell_type": "code",
   "execution_count": 146,
   "metadata": {
    "hidden": true
   },
   "outputs": [
    {
     "data": {
      "text/plain": [
       "476"
      ]
     },
     "execution_count": 146,
     "metadata": {},
     "output_type": "execute_result"
    }
   ],
   "source": [
    "hamming_distance(seq1, seq2)"
   ]
  },
  {
   "cell_type": "markdown",
   "metadata": {
    "heading_collapsed": true
   },
   "source": [
    "## Mendel's First Law "
   ]
  },
  {
   "cell_type": "markdown",
   "metadata": {
    "hidden": true
   },
   "source": [
    "Problem\n",
    "\n",
    "Figure 2. The probability of any outcome (leaf) in a probability tree diagram is given by the product of probabilities from the start of the tree to the outcome. For example, the probability that X is blue and Y is blue is equal to (2/5)(1/4), or 1/10.\n",
    "Probability is the mathematical study of randomly occurring phenomena. We will model such a phenomenon with a random variable, which is simply a variable that can take a number of different distinct outcomes depending on the result of an underlying random process.\n",
    "\n",
    "For example, say that we have a bag containing 3 red balls and 2 blue balls. If we let X represent the random variable corresponding to the color of a drawn ball, then the probability of each of the two outcomes is given by Pr(X=red)=35 and Pr(X=blue)=25.\n",
    "\n",
    "Random variables can be combined to yield new random variables. Returning to the ball example, let Y model the color of a second ball drawn from the bag (without replacing the first ball). The probability of Y being red depends on whether the first ball was red or blue. To represent all outcomes of X and Y, we therefore use a probability tree diagram. This branching diagram represents all possible individual probabilities for X and Y, with outcomes at the endpoints (\"leaves\") of the tree. The probability of any outcome is given by the product of probabilities along the path from the beginning of the tree; see Figure 2 for an illustrative example.\n",
    "\n",
    "An event is simply a collection of outcomes. Because outcomes are distinct, the probability of an event can be written as the sum of the probabilities of its constituent outcomes. For our colored ball example, let A be the event \"Y is blue.\" Pr(A) is equal to the sum of the probabilities of two different outcomes: Pr(X=blue and Y=blue)+Pr(X=red and Y=blue), or 310+110=25 (see Figure 2 above).\n",
    "\n",
    "Given: Three positive integers k, m, and n, representing a population containing k+m+n organisms: k individuals are homozygous dominant for a factor, m are heterozygous, and n are homozygous recessive.\n",
    "\n",
    "Return: The probability that two randomly selected mating organisms will produce an individual possessing a dominant allele (and thus displaying the dominant phenotype). Assume that any two organisms can mate."
   ]
  },
  {
   "cell_type": "code",
   "execution_count": 156,
   "metadata": {
    "hidden": true
   },
   "outputs": [],
   "source": [
    "def probability_recessive_only(k, m , n):\n",
    "    N = k + m + n\n",
    "    \n",
    "    # mating of two recessive homozygous:\n",
    "    p1 = (n/N) * ((n-1)/(N-1))\n",
    "    \n",
    "    # mating of recessive homozygous & heterozygous:\n",
    "    p2a = (n/N) * (0.5 * m/(N-1))\n",
    "    p2b = (0.5* m/N) * (n/(N-1))\n",
    "    \n",
    "    # mating of two heterozygous:\n",
    "    p3 = (0.5*(m/N)) * (0.5*(m-1)/(N-1))\n",
    "    \n",
    "    return p1 + p2a + p2b + p3\n",
    "\n",
    "def probability_dominant(k, m , n):\n",
    "    return 1 - probability_recessive_only(k, m , n)"
   ]
  },
  {
   "cell_type": "code",
   "execution_count": 170,
   "metadata": {
    "hidden": true
   },
   "outputs": [
    {
     "data": {
      "text/plain": [
       "'23 27 29\\n'"
      ]
     },
     "execution_count": 170,
     "metadata": {},
     "output_type": "execute_result"
    }
   ],
   "source": [
    "f = open(\"rosalind_iprb.txt\", \"r\")\n",
    "a = f.read()\n",
    "a"
   ]
  },
  {
   "cell_type": "code",
   "execution_count": 171,
   "metadata": {
    "hidden": true
   },
   "outputs": [
    {
     "data": {
      "text/plain": [
       "(23, 27, 29)"
      ]
     },
     "execution_count": 171,
     "metadata": {},
     "output_type": "execute_result"
    }
   ],
   "source": [
    "b = a.replace(\"\\n\", \"\").split(\" \")\n",
    "k, m , n = [int(x) for x in b]\n",
    "k, m , n "
   ]
  },
  {
   "cell_type": "code",
   "execution_count": 172,
   "metadata": {
    "hidden": true
   },
   "outputs": [
    {
     "data": {
      "text/plain": [
       "0.7126744563453424"
      ]
     },
     "execution_count": 172,
     "metadata": {},
     "output_type": "execute_result"
    }
   ],
   "source": [
    "probability_dominant(k, m , n)"
   ]
  },
  {
   "cell_type": "markdown",
   "metadata": {
    "heading_collapsed": true
   },
   "source": [
    "## Translating RNA into Protein"
   ]
  },
  {
   "cell_type": "markdown",
   "metadata": {
    "hidden": true
   },
   "source": [
    "Problem\n",
    "The 20 commonly occurring amino acids are abbreviated by using 20 letters from the English alphabet (all letters except for B, J, O, U, X, and Z). Protein strings are constructed from these 20 symbols. Henceforth, the term genetic string will incorporate protein strings along with DNA strings and RNA strings.\n",
    "\n",
    "The RNA codon table dictates the details regarding the encoding of specific codons into the amino acid alphabet.\n",
    "\n",
    "Given: An RNA string s corresponding to a strand of mRNA (of length at most 10 kbp).\n",
    "\n",
    "Return: The protein string encoded by s."
   ]
  },
  {
   "cell_type": "code",
   "execution_count": 242,
   "metadata": {
    "hidden": true
   },
   "outputs": [],
   "source": [
    "def get_aa(codon, codon_table):\n",
    "    return codon_table[codon]\n",
    "\n",
    "def translate_strand(s, codon_table):\n",
    "    n = len(s)\n",
    "    assert n%3 == 0\n",
    "    n_codons = int(n / 3)\n",
    "    protein = \"\"\n",
    "    for i in range(n_codons):\n",
    "        codon = s[3*i:3*(i+1)]\n",
    "        \n",
    "#         print(codon)\n",
    "        aa = get_aa(codon, codon_table)\n",
    "#         print(aa)\n",
    "        protein += aa\n",
    "        \n",
    "    return protein"
   ]
  },
  {
   "cell_type": "code",
   "execution_count": 245,
   "metadata": {
    "hidden": true,
    "scrolled": true
   },
   "outputs": [
    {
     "data": {
      "text/plain": [
       "{'UUU': 'F',\n",
       " 'CUU': 'L',\n",
       " 'AUU': 'I',\n",
       " 'GUU': 'V',\n",
       " 'UUC': 'F',\n",
       " 'CUC': 'L',\n",
       " 'AUC': 'I',\n",
       " 'GUC': 'V',\n",
       " 'UUA': 'L',\n",
       " 'CUA': 'L',\n",
       " 'AUA': 'I',\n",
       " 'GUA': 'V',\n",
       " 'UUG': 'L',\n",
       " 'CUG': 'L',\n",
       " 'AUG': 'M',\n",
       " 'GUG': 'V',\n",
       " 'UCU': 'S',\n",
       " 'CCU': 'P',\n",
       " 'ACU': 'T',\n",
       " 'GCU': 'A',\n",
       " 'UCC': 'S',\n",
       " 'CCC': 'P',\n",
       " 'ACC': 'T',\n",
       " 'GCC': 'A',\n",
       " 'UCA': 'S',\n",
       " 'CCA': 'P',\n",
       " 'ACA': 'T',\n",
       " 'GCA': 'A',\n",
       " 'UCG': 'S',\n",
       " 'CCG': 'P',\n",
       " 'ACG': 'T',\n",
       " 'GCG': 'A',\n",
       " 'UAU': 'Y',\n",
       " 'CAU': 'H',\n",
       " 'AAU': 'N',\n",
       " 'GAU': 'D',\n",
       " 'UAC': 'Y',\n",
       " 'CAC': 'H',\n",
       " 'AAC': 'N',\n",
       " 'GAC': 'D',\n",
       " 'UAA': '*',\n",
       " 'CAA': 'Q',\n",
       " 'AAA': 'K',\n",
       " 'GAA': 'E',\n",
       " 'UAG': '*',\n",
       " 'CAG': 'Q',\n",
       " 'AAG': 'K',\n",
       " 'GAG': 'E',\n",
       " 'UGU': 'C',\n",
       " 'CGU': 'R',\n",
       " 'AGU': 'S',\n",
       " 'GGU': 'G',\n",
       " 'UGC': 'C',\n",
       " 'CGC': 'R',\n",
       " 'AGC': 'S',\n",
       " 'GGC': 'G',\n",
       " 'UGA': '*',\n",
       " 'CGA': 'R',\n",
       " 'AGA': 'R',\n",
       " 'GGA': 'G',\n",
       " 'UGG': 'W',\n",
       " 'CGG': 'R',\n",
       " 'AGG': 'R',\n",
       " 'GGG': 'G'}"
      ]
     },
     "execution_count": 245,
     "metadata": {},
     "output_type": "execute_result"
    }
   ],
   "source": [
    "# Read the codon table\n",
    "\n",
    "f = open(\"codon_table.txt\", \"r\")\n",
    "a = f.readlines()\n",
    "\n",
    "codon_table = {}\n",
    "for line in a:\n",
    "    parsed_line, = line.replace(\"\\n\", \"\").replace(\" \", \"\").split(\" \")\n",
    "    no_matches = int(len(parsed_line)/4)\n",
    "    \n",
    "    for i in range(no_matches):\n",
    "        section = parsed_line[4*i:4*(i+1)]  \n",
    "        codon = section[0:3]\n",
    "        aa = section[-1]\n",
    "        \n",
    "        codon_table[codon] = aa\n",
    "codon_table"
   ]
  },
  {
   "cell_type": "code",
   "execution_count": 244,
   "metadata": {
    "hidden": true
   },
   "outputs": [
    {
     "data": {
      "text/plain": [
       "'MHRGYDHANVTNGAPFKTLRVRGPCPSNECNRVIRPRRYQDLSDLGVSDSKNLFDPSIKDERELSQGQTLRATEVGSLKHGFARCFSEAWRSPLGSPSDHGRCAHFTIVPVRYPPPDRYLNTLAVVDAVLMQYCLEVVPCFMMSLVKEQGIHIRISRAPIQLSHMYFKSEPVACGQGLATFANLLNADFPSRWSIIFNHSQNFGYIVIPVPRRLAGASGATPTLHLIDTEAVMSQFHQVRLCHSEVYGQPRRSRVERSASGLYSTQLKWLPPSNENRFFGSHGTYSHADTRTKRSCWRGWTTQVALRLTQVTIVSVCVFFGLQLPAEDTLGVSYSTSPAHSGTLGVAVDDIPRYIHPVCKGMCLRAVLPMAALNKILGPDRIGRCSSQVRCTEIRLTSAPLLGASRKKIKLQAGYLFGVAVAPGVTMSKPVVLPRHTPLSITITSIDWFVTNNLESEKSEFTWLISTIHRSSNIILCVRSCSAKTLEWNVSRKPPMLTQREIASQAVLTAYLAPCTSHFPFYTGSTYLSSPNTLFLPRHILRVIHYQWEKQSPYSSWPKVIPGYVSSSAQFPALAPAHMPDTVHGGGYPSYLLRNSWRATCLKTCIDAINWYVTIRISLGRPHMPLIVQYTYHYQGGPCRRTGQLMLQYSVLVSRGRRGGRVFEGRETHRKRAILCTLYGLDAKKVAGIDPDYSIIPAEDTYQADRSLERYQHYGHLLVTLTLVVSKINTNYWRLRFPARESLTSSVVDLNCDQPTSLPAFSDAVHWSLRLKSLVRNKGHRGCYVSELCTSQYPKRRTIMSRLYRLPDVVRDYLPLTRSSFIGNAHSSQLHLLLRLVLTKRSVTTYPPPTPYNPSTCVDLKRHSMRLCHFRFLRAARGHYSYTSELLRRYLRPLAVLIQTATADGQTAWALSDQTVAVMSAVVDGTCVSPRRCLHPSPGSAYVLCGFTEASNTAKDDALRRSSSNNGTDNDTPDTLRVEQEIPTGSLGRLPRIFGMNHAIIIRIRHLVSRRPKPNLELKLTYILLARVTCTIIITLGPAWCKSIGWRKTVCHLYLYQVSDESFVTIALQQITRPNPVIPHGNLSPYLVLFCIPGAMRRGTSFLPHTEDIANQPSSLSTSIGPHWSRDVPWVAVCGDALLSGKNTLYRFVCACSTRPLGERSVACDEPTGSARSPHSPVVSRWLVTARSRENLEHCRLPPDGAQHCLPNGPSKIARNAICLSVSFKPPFSFYIFCFSHAYPCVESVTCNPDGRWCFSSGNLFECHRGLHALLDGSCWQKAAIRGHSSARWLICVLVAREDLSQFGSQPVYGICGESQGSRSMANQQAHKEDHTCPGTSLDAYTGTAVPIVPLCVQALSRLSAFPAFMRTTFRCPPRLRLQIFNGRSMPYPCAYLLLTSRIIHHKAQHHAIITSDVDLTILARMVSIRPSWERPVKLRDHTPDGLKVLFKNQMTSFRWEPLTGVRAAMTRCRQRLTSLLTLSSTAEIPLLFAGCRVAATLASVDGESLCNSAAVVAPGYHIQSLFCRPIETTDHLHHIVTSNGLVTMPTIWSFVPKAMPKGKSPLGSLKLCGLKAAATRLTELNLNVIAGGYLRLTLQHPQVPGPLLSILTCGAFPAQSNAIVSRESRMDARVRAFWRKKPDPPEVELGGPSETTRALGAKVRYTYLVLRSIVFLSRVRKYTSHMQIGVTLTATGQKTSAGRQRAFMSTTGKGGNNGVCVVTRGGLSECSLRWAVYRARGLGATDYHCAISKSSTLFQKRAHSRLTPSMPCFPRSFCGNLIVFGQNPCCSFGGIRVRHAADLRERSLLCEKCTQWGTQIVNFTLRVFITTLRPDTRPYYAGGTLGHGLRERWSDNRALAPMARGPELWLRPRTVIVHVRVDVHHNLLLDQLILCSRRPWGTLQDHVFLAPTTPAGFVRYSSSLIRTSLHPEHKPGGLSVCIDSSRQEVGPQFIAANKKQRTNMKYLTPHEKGVGARTRHFFPGLNEYNEYDFQRKLVEFEPLIPFALTCRFGIAPCSRSHGLTIGLWSPSTGGGRIDNKLVFTRRALVGATRAQHTRDSDVSAAIAADRESEILLQKAVPIASCRPELPVSIPQKMIELAVTVIPQVRSLITRVSTLSIDRHCSRGRRRQATLDSRTCTSIAPWVPCDAARYYLPSALESSWAPASLARLFLYSWNYGRLQAVVRLRSEMRAHSVRAIGLIYAGQADSVPWWTKDSYNVGLTKPTIPHQVSILSDGHSSPRDINTSVSPAVDMEARTTFGAFTLGRFTILVSRDAGPRFRSSHIRRKELVADHFLVWARNQVNHVVHWSRRSEVNGFWCIVSGTGFHLFRFGEYVARMRAIAVVVPHNLHRALCSVCLKLPKIKRGRPMDPNSHRSLESSGRLQAQIIETRSYLPVCVPKDVGQPRVGLNKWTSPPIWVRGGFLVIGLDSSSSKRGPRAAACLFRSYFAEFMPKVVVDFSATGRSVCKDDLFSCTHRDVVSNHLSAHPKLLKAPTVVPYLRSPRTSSSHAVDANLLSLETSRGPHLVTVRYTRERLLPHVIASPQSVGVASNYCQSCHQPPPCVPAPSCFENDSMSHMRNFQAKWAYLPLICKQYYLVRNQRGVTCTLPYEKNTLLQYNQKGIPISVDVCVDRCTDWRHHQRELVYEKWQNLLPRDRYLRLCTNFGNTTARGGSDQLGSPGTFQRNCPFDPSQTSSLGPPKFGVSPRVRVQTRGTIQRCRPERRGAIVYIKIDYVSTITMRFVGSEESRGAPGSLASVPDYNVPVPFVTSLRMSVTIMERSIRSANKRVILRRVKSLSRAVGLNTRVGLFAGAAQGLSQIDDSDERWSHSGARHEQHSNDRNTGKIAQDKLSSRPPWSIGARGVARVNAGTVDGDLMAACWITVRLPHPLVQFYHTFAFLNGVCCYTFTTICCNPLLLSIYYETKPKAQSGKSSRLGTSELEHGVFASSAPNNKVVLNSVISSSWHPTT*'"
      ]
     },
     "execution_count": 244,
     "metadata": {},
     "output_type": "execute_result"
    }
   ],
   "source": [
    "f = open(\"rosalind_prot.txt\", \"r\")\n",
    "a = f.read().replace(\"\\n\", \"\")\n",
    "\n",
    "translate_strand(a, codon_table)"
   ]
  },
  {
   "cell_type": "markdown",
   "metadata": {
    "heading_collapsed": true
   },
   "source": [
    "## Inferring mRNA from Protein"
   ]
  },
  {
   "cell_type": "markdown",
   "metadata": {
    "hidden": true
   },
   "source": [
    "Problem\n",
    "For positive integers a and n, a modulo n (written amodn in shorthand) is the remainder when a is divided by n. For example, 29mod11=7 because 29=11×2+7.\n",
    "\n",
    "Modular arithmetic is the study of addition, subtraction, multiplication, and division with respect to the modulo operation. We say that a and b are congruent modulo n if amodn=bmodn; in this case, we use the notation a≡bmodn.\n",
    "\n",
    "Two useful facts in modular arithmetic are that if a≡bmodn and c≡dmodn, then a+c≡b+dmodn and a×c≡b×dmodn. To check your understanding of these rules, you may wish to verify these relationships for a=29, b=73, c=10, d=32, and n=11.\n",
    "\n",
    "As you will see in this exercise, some Rosalind problems will ask for a (very large) integer solution modulo a smaller number to avoid the computational pitfalls that arise with storing such large numbers.\n",
    "\n",
    "Given: A protein string of length at most 1000 aa.\n",
    "\n",
    "Return: The total number of different RNA strings from which the protein could have been translated, modulo 1,000,000. (Don't neglect the importance of the stop codon in protein translation.)"
   ]
  },
  {
   "cell_type": "code",
   "execution_count": 81,
   "metadata": {
    "hidden": true
   },
   "outputs": [],
   "source": [
    "def get_reverse_codon_table(codon_table):\n",
    "    rev_table = {}\n",
    "    for codon, aa in codon_table.items():\n",
    "        if aa not in rev_table.keys():\n",
    "            rev_table[aa] = [codon]\n",
    "        else:\n",
    "            rev_table[aa].append(codon)\n",
    "    return rev_table"
   ]
  },
  {
   "cell_type": "code",
   "execution_count": 82,
   "metadata": {
    "hidden": true
   },
   "outputs": [],
   "source": [
    "def possible_rna(prot_seq, rev_table):\n",
    "    counter = 1\n",
    "    for aa in prot_seq:\n",
    "        n_codons = len(rev_table[aa])\n",
    "        counter *= n_codons\n",
    "        counter = counter % 1e6  # from the properties above, this is the same as calculating the modulo at the end\n",
    "    return counter\n"
   ]
  },
  {
   "cell_type": "code",
   "execution_count": 83,
   "metadata": {
    "hidden": true
   },
   "outputs": [
    {
     "data": {
      "text/plain": [
       "{'F': ['UUU', 'UUC'],\n",
       " 'L': ['CUU', 'CUC', 'UUA', 'CUA', 'UUG', 'CUG'],\n",
       " 'I': ['AUU', 'AUC', 'AUA'],\n",
       " 'V': ['GUU', 'GUC', 'GUA', 'GUG'],\n",
       " 'M': ['AUG'],\n",
       " 'S': ['UCU', 'UCC', 'UCA', 'UCG', 'AGU', 'AGC'],\n",
       " 'P': ['CCU', 'CCC', 'CCA', 'CCG'],\n",
       " 'T': ['ACU', 'ACC', 'ACA', 'ACG'],\n",
       " 'A': ['GCU', 'GCC', 'GCA', 'GCG'],\n",
       " 'Y': ['UAU', 'UAC'],\n",
       " 'H': ['CAU', 'CAC'],\n",
       " 'N': ['AAU', 'AAC'],\n",
       " 'D': ['GAU', 'GAC'],\n",
       " '*': ['UAA', 'UAG', 'UGA'],\n",
       " 'Q': ['CAA', 'CAG'],\n",
       " 'K': ['AAA', 'AAG'],\n",
       " 'E': ['GAA', 'GAG'],\n",
       " 'C': ['UGU', 'UGC'],\n",
       " 'R': ['CGU', 'CGC', 'CGA', 'AGA', 'CGG', 'AGG'],\n",
       " 'G': ['GGU', 'GGC', 'GGA', 'GGG'],\n",
       " 'W': ['UGG']}"
      ]
     },
     "execution_count": 83,
     "metadata": {},
     "output_type": "execute_result"
    }
   ],
   "source": [
    "rev_table = get_reverse_codon_table(codon_table)\n",
    "rev_table"
   ]
  },
  {
   "cell_type": "code",
   "execution_count": 85,
   "metadata": {
    "hidden": true
   },
   "outputs": [
    {
     "data": {
      "text/plain": [
       "'MTNDNEYCDDEDAAPWRTNRNKYYGSSEQSVHFQVSDSCAQFLHILPWTQYQREVHFPAENPDMLNEYKQHYLLCCCFDGCDSPHHIMWFRCSFCAVIMFRDNNKFMHLWLRLAFYYCWWDYIVIESCVHLLMIDFNAQCWWTYEFIKQEELFHHCWYLDTHPTESACLGRSNGKAVCYMGIHLDAGDSEMYCYITCGSPPTKWCPGRHMQYGSGPFCIDMVNKEWRYHGEYYKMSWCTSRTLKLYYNIVSWEFQVAMYCPWDFLGSVMVSGRFYWQRCVFDLLGHRLDRMSIDFFTTYNFYVKHTLLVDMQRGIANDTQALVCCCADLSFNRWFITAEDQCAWSMGMDQKFVYSYFYEACDVFSFEMNASSVEKSEQQVNTISQGYRRDHSKCPLRLHIGWSLIKKPMCVRECVAFHGNVCMAKGGEWPVLIMDKFLRENMVDTGEAELKSNTNVACIDRGGTVYEHDCCTKLQELCLWCQKARYAGLTGRTFFILADLVWPQMHWFHEDVFTEEMCMALWPTEDLGPYDTWAHCCFLPFQYVQNFKDIEFVSLGRHFIEHFPLRSVRPGMFTQIYWDDVVVSMFHRCLFGSITNEAYFHQIQKIYTFDGMIRCLECIIFMRKLMDYDWQQYKQFPYGQMFKEVMMEEGVSFAVLKIMKKTKFKTIQAPGMLHRAVYTSKVRRKTPNYDQAQNNPLYTYYHLPNPSECIELMGLEQAHFCAHTMCQSQMTKKVNCVKVLELPVLDINIMGGQFPCIKALPIQMGCQEMPGAEGLAFKFRPFVGNDVDGAPWCDAHEHPQSRTLTHIWQFCYDQLLWTEMKKTILRCCCVGKRFDWNQNWKHCETFGCLSMTSIAAPIYDDSTVVRHITSSESRLAKCCDMMIWDEWIPVGARTSDSLEYAWIFFHLLPGNNIGRPRKHYMNHYIPDRERSREFLPQIEIEETFIDIETQKETALCCAAFRWDQEMFAYYSCACGMHLGWTGVQWSVDPHWMGRKMS*'"
      ]
     },
     "execution_count": 85,
     "metadata": {},
     "output_type": "execute_result"
    }
   ],
   "source": [
    "f = open(\"rosalind_mrna.txt\", \"r\")\n",
    "prot = f.read().replace(\"\\n\", \"\")\n",
    "prot += \"*\"\n",
    "prot"
   ]
  },
  {
   "cell_type": "code",
   "execution_count": 86,
   "metadata": {
    "hidden": true
   },
   "outputs": [
    {
     "data": {
      "text/plain": [
       "378048.0"
      ]
     },
     "execution_count": 86,
     "metadata": {},
     "output_type": "execute_result"
    }
   ],
   "source": [
    "possible_rna(prot, rev_table)"
   ]
  },
  {
   "cell_type": "markdown",
   "metadata": {
    "heading_collapsed": true
   },
   "source": [
    "## Open Reading Frames"
   ]
  },
  {
   "cell_type": "markdown",
   "metadata": {
    "hidden": true
   },
   "source": [
    "Problem\n",
    "Either strand of a DNA double helix can serve as the coding strand for RNA transcription. Hence, a given DNA string implies six total reading frames, or ways in which the same region of DNA can be translated into amino acids: three reading frames result from reading the string itself, whereas three more result from reading its reverse complement.\n",
    "\n",
    "An open reading frame (ORF) is one which starts from the start codon and ends by stop codon, without any other stop codons in between. Thus, a candidate protein string is derived by translating an open reading frame into amino acids until a stop codon is reached.\n",
    "\n",
    "Given: A DNA string s of length at most 1 kbp in FASTA format.\n",
    "\n",
    "Return: Every distinct candidate protein string that can be translated from ORFs of s. Strings can be returned in any order."
   ]
  },
  {
   "cell_type": "code",
   "execution_count": 325,
   "metadata": {
    "code_folding": [],
    "hidden": true
   },
   "outputs": [],
   "source": [
    "def read_fasta(filename):\n",
    "    data = {}\n",
    "    with open(filename) as f:\n",
    "        lines = f.readlines()\n",
    "        for l in lines:\n",
    "            if l[0]==\">\":\n",
    "                key = l[1:].replace(\"\\n\", \"\")\n",
    "                data[key] = \"\"\n",
    "            else:\n",
    "                string = l\n",
    "                data[key] += string.replace(\"\\n\", \"\")\n",
    "    return data"
   ]
  },
  {
   "cell_type": "code",
   "execution_count": 9,
   "metadata": {
    "code_folding": [
     0,
     3
    ],
    "hidden": true
   },
   "outputs": [],
   "source": [
    "def reverse_strand(s):\n",
    "    return s[::-1]\n",
    "\n",
    "def complementary_base(base):\n",
    "    compl_dict = {\"a\": \"T\", \"c\": \"G\", \"g\": \"C\", \"t\": \"A\"}\n",
    "    \n",
    "    try:\n",
    "        return compl_dict[base.lower()]\n",
    "    except KeyError:\n",
    "        print(\"Unknown base!\")\n",
    "        return \"_\"\n",
    "    \n",
    "def reverse_complement(s):\n",
    "    s_pruned = prune_strand(s)\n",
    "    s_rev = reverse_strand(s_pruned)\n",
    "    s_compl = [complementary_base(b) for b in s_rev]\n",
    "    return \"\".join(s_compl)"
   ]
  },
  {
   "cell_type": "code",
   "execution_count": 311,
   "metadata": {
    "code_folding": [
     0,
     8
    ],
    "hidden": true
   },
   "outputs": [],
   "source": [
    "def dna_to_rna(base):\n",
    "    if base.lower() == \"t\":\n",
    "        return \"U\"\n",
    "    elif base.lower() in [\"a\", \"c\", \"g\"]:\n",
    "        return base\n",
    "    else:\n",
    "        return \"\"\n",
    "\n",
    "def transcribe_strand(s):\n",
    "    t = [dna_to_rna(base) for base in s]\n",
    "    return \"\".join(t)\n",
    "\n",
    "\n",
    "def get_aa(codon, codon_table):\n",
    "    return codon_table[codon]\n",
    "\n",
    "def translate_strand(s, codon_table):\n",
    "    n = len(s)\n",
    "    assert n%3 == 0\n",
    "    n_codons = int(n / 3)\n",
    "    protein = \"\"\n",
    "    for i in range(n_codons):\n",
    "        codon = s[3*i:3*(i+1)]\n",
    "        \n",
    "#         print(codon)\n",
    "        aa = get_aa(codon, codon_table)\n",
    "#         print(aa)\n",
    "        protein += aa\n",
    "        \n",
    "    return protein"
   ]
  },
  {
   "cell_type": "code",
   "execution_count": 141,
   "metadata": {
    "hidden": true
   },
   "outputs": [],
   "source": [
    "import re\n",
    "\n",
    "def find_orf(seq, codon_table):\n",
    "    N = len(seq)\n",
    "    rest = N%3\n",
    "    n_full = int((N-rest)/3)\n",
    "    \n",
    "    for start in range(3):\n",
    "        print(\"Shift #{}\".format(start+1))\n",
    "        \n",
    "        len_ahead = N - start  # length of the sequence ahead\n",
    "        rest_ahead = len_ahead % 3\n",
    "        no_codons = int((len_ahead-rest_ahead)/3)\n",
    "        \n",
    "        out = translate_strand(seq[start : start + 3*no_codons], codon_table)\n",
    "        print(\"a.a. sequence: \" , out)\n",
    "        out_clean = _prune_proteins(out)\n",
    "        print(out_clean)\n",
    "        print(\":::::\")\n",
    "        \n",
    "def _prune_proteins(aa_seq):\n",
    "    matches = re.findall('M[a-zA-Z]+[*]', aa_seq)\n",
    "    matches2 = re.findall('M+[*]', aa_seq)\n",
    "    print(matches)\n",
    "    print(matches2)\n",
    "#     for protein in matches:\n",
    "#         print(protein)\n",
    "#     for protein in matches2:\n",
    "#         print(protein)\n",
    "# #         pass"
   ]
  },
  {
   "cell_type": "code",
   "execution_count": 132,
   "metadata": {
    "hidden": true
   },
   "outputs": [],
   "source": [
    "seq = \"AGCCATGTAGCTAACTCAGGTTACATGGGGATGACCCCGCGACTTGGATTAGAGTCTCTTTTGGAATAAGCCTGAATGATCCGAGTAGCATCTCAG\""
   ]
  },
  {
   "cell_type": "code",
   "execution_count": 133,
   "metadata": {
    "hidden": true
   },
   "outputs": [
    {
     "data": {
      "text/plain": [
       "('AGCCAUGUAGCUAACUCAGGUUACAUGGGGAUGACCCCGCGACUUGGAUUAGAGUCUCUUUUGGAAUAAGCCUGAAUGAUCCGAGUAGCAUCUCAG',\n",
       " 'CUGAGAUGCUACUCGGAUCAUUCAGGCUUAUUCCAAAAGAGACUCUAAUCCAAGUCGCGGGGUCAUCCCCAUGUAACCUGAGUUAGCUACAUGGCU')"
      ]
     },
     "execution_count": 133,
     "metadata": {},
     "output_type": "execute_result"
    }
   ],
   "source": [
    "tseq = transcribe_strand(seq)\n",
    "tseq_rev = transcribe_strand(reverse_complement(seq))\n",
    "\n",
    "tseq, tseq_rev"
   ]
  },
  {
   "cell_type": "code",
   "execution_count": 310,
   "metadata": {
    "code_folding": [],
    "hidden": true,
    "scrolled": true
   },
   "outputs": [
    {
     "data": {
      "text/plain": [
       "{'UUU': 'F',\n",
       " 'CUU': 'L',\n",
       " 'AUU': 'I',\n",
       " 'GUU': 'V',\n",
       " 'UUC': 'F',\n",
       " 'CUC': 'L',\n",
       " 'AUC': 'I',\n",
       " 'GUC': 'V',\n",
       " 'UUA': 'L',\n",
       " 'CUA': 'L',\n",
       " 'AUA': 'I',\n",
       " 'GUA': 'V',\n",
       " 'UUG': 'L',\n",
       " 'CUG': 'L',\n",
       " 'AUG': 'M',\n",
       " 'GUG': 'V',\n",
       " 'UCU': 'S',\n",
       " 'CCU': 'P',\n",
       " 'ACU': 'T',\n",
       " 'GCU': 'A',\n",
       " 'UCC': 'S',\n",
       " 'CCC': 'P',\n",
       " 'ACC': 'T',\n",
       " 'GCC': 'A',\n",
       " 'UCA': 'S',\n",
       " 'CCA': 'P',\n",
       " 'ACA': 'T',\n",
       " 'GCA': 'A',\n",
       " 'UCG': 'S',\n",
       " 'CCG': 'P',\n",
       " 'ACG': 'T',\n",
       " 'GCG': 'A',\n",
       " 'UAU': 'Y',\n",
       " 'CAU': 'H',\n",
       " 'AAU': 'N',\n",
       " 'GAU': 'D',\n",
       " 'UAC': 'Y',\n",
       " 'CAC': 'H',\n",
       " 'AAC': 'N',\n",
       " 'GAC': 'D',\n",
       " 'UAA': '*',\n",
       " 'CAA': 'Q',\n",
       " 'AAA': 'K',\n",
       " 'GAA': 'E',\n",
       " 'UAG': '*',\n",
       " 'CAG': 'Q',\n",
       " 'AAG': 'K',\n",
       " 'GAG': 'E',\n",
       " 'UGU': 'C',\n",
       " 'CGU': 'R',\n",
       " 'AGU': 'S',\n",
       " 'GGU': 'G',\n",
       " 'UGC': 'C',\n",
       " 'CGC': 'R',\n",
       " 'AGC': 'S',\n",
       " 'GGC': 'G',\n",
       " 'UGA': '*',\n",
       " 'CGA': 'R',\n",
       " 'AGA': 'R',\n",
       " 'GGA': 'G',\n",
       " 'UGG': 'W',\n",
       " 'CGG': 'R',\n",
       " 'AGG': 'R',\n",
       " 'GGG': 'G'}"
      ]
     },
     "execution_count": 310,
     "metadata": {},
     "output_type": "execute_result"
    }
   ],
   "source": [
    "# Read the codon table\n",
    "\n",
    "f = open(\"codon_table.txt\", \"r\")\n",
    "a = f.readlines()\n",
    "\n",
    "codon_table = {}\n",
    "for line in a:\n",
    "    parsed_line, = line.replace(\"\\n\", \"\").replace(\" \", \"\").split(\" \")\n",
    "    no_matches = int(len(parsed_line)/4)\n",
    "    \n",
    "    for i in range(no_matches):\n",
    "        section = parsed_line[4*i:4*(i+1)]  \n",
    "        codon = section[0:3]\n",
    "        aa = section[-1]\n",
    "        \n",
    "        codon_table[codon] = aa\n",
    "codon_table"
   ]
  },
  {
   "cell_type": "code",
   "execution_count": 142,
   "metadata": {
    "hidden": true
   },
   "outputs": [
    {
     "name": "stdout",
     "output_type": "stream",
     "text": [
      "Shift #1\n",
      "a.a. sequence:  SHVANSGYMGMTPRLGLESLLE*A*MIRVASQ\n",
      "['MGMTPRLGLESLLE*']\n",
      "[]\n",
      "None\n",
      ":::::\n",
      "Shift #2\n",
      "a.a. sequence:  AM*LTQVTWG*PRDLD*SLFWNKPE*SE*HL\n",
      "[]\n",
      "['M*']\n",
      "None\n",
      ":::::\n",
      "Shift #3\n",
      "a.a. sequence:  PCS*LRLHGDDPATWIRVSFGISLNDPSSIS\n",
      "[]\n",
      "[]\n",
      "None\n",
      ":::::\n",
      "\n",
      "Shift #1\n",
      "a.a. sequence:  LRCYSDHSGLFQKRL*SKSRGHPHVT*VSYMA\n",
      "[]\n",
      "[]\n",
      "None\n",
      ":::::\n",
      "Shift #2\n",
      "a.a. sequence:  *DATRIIQAYSKRDSNPSRGVIPM*PELATW\n",
      "[]\n",
      "['M*']\n",
      "None\n",
      ":::::\n",
      "Shift #3\n",
      "a.a. sequence:  EMLLGSFRLIPKETLIQVAGSSPCNLS*LHG\n",
      "['MLLGSFRLIPKETLIQVAGSSPCNLS*']\n",
      "[]\n",
      "None\n",
      ":::::\n"
     ]
    }
   ],
   "source": [
    "find_orf(tseq, codon_table)\n",
    "print(\"\")\n",
    "find_orf(tseq_rev, codon_table)\n",
    "# find_orf(t_s2, codon_table)"
   ]
  },
  {
   "cell_type": "markdown",
   "metadata": {
    "heading_collapsed": true
   },
   "source": [
    "## Enumerating Gene Orders "
   ]
  },
  {
   "cell_type": "markdown",
   "metadata": {
    "hidden": true
   },
   "source": [
    "Problem\n",
    "A permutation of length n is an ordering of the positive integers {1,2,…,n}. For example, π=(5,3,2,1,4) is a permutation of length 5.\n",
    "\n",
    "Given: A positive integer n≤7.\n",
    "\n",
    "Return: The total number of permutations of length n, followed by a list of all such permutations (in any order)"
   ]
  },
  {
   "cell_type": "code",
   "execution_count": 172,
   "metadata": {
    "hidden": true
   },
   "outputs": [],
   "source": [
    "import math\n",
    "import itertools\n",
    "\n",
    "def my_permutations(n):\n",
    "    x = list(range(1, n+1))\n",
    "    print(\"No. permutations:\", math.factorial(n))\n",
    "    print(\"All permutations:\")\n",
    "    for y in itertools.permutations(x):\n",
    "        y_ = [str(i) for i in y]\n",
    "        print(\" \".join(y_))"
   ]
  },
  {
   "cell_type": "code",
   "execution_count": 174,
   "metadata": {
    "hidden": true
   },
   "outputs": [
    {
     "name": "stdout",
     "output_type": "stream",
     "text": [
      "No. permutations: 720\n",
      "All permutations:\n",
      "1 2 3 4 5 6\n",
      "1 2 3 4 6 5\n",
      "1 2 3 5 4 6\n",
      "1 2 3 5 6 4\n",
      "1 2 3 6 4 5\n",
      "1 2 3 6 5 4\n",
      "1 2 4 3 5 6\n",
      "1 2 4 3 6 5\n",
      "1 2 4 5 3 6\n",
      "1 2 4 5 6 3\n",
      "1 2 4 6 3 5\n",
      "1 2 4 6 5 3\n",
      "1 2 5 3 4 6\n",
      "1 2 5 3 6 4\n",
      "1 2 5 4 3 6\n",
      "1 2 5 4 6 3\n",
      "1 2 5 6 3 4\n",
      "1 2 5 6 4 3\n",
      "1 2 6 3 4 5\n",
      "1 2 6 3 5 4\n",
      "1 2 6 4 3 5\n",
      "1 2 6 4 5 3\n",
      "1 2 6 5 3 4\n",
      "1 2 6 5 4 3\n",
      "1 3 2 4 5 6\n",
      "1 3 2 4 6 5\n",
      "1 3 2 5 4 6\n",
      "1 3 2 5 6 4\n",
      "1 3 2 6 4 5\n",
      "1 3 2 6 5 4\n",
      "1 3 4 2 5 6\n",
      "1 3 4 2 6 5\n",
      "1 3 4 5 2 6\n",
      "1 3 4 5 6 2\n",
      "1 3 4 6 2 5\n",
      "1 3 4 6 5 2\n",
      "1 3 5 2 4 6\n",
      "1 3 5 2 6 4\n",
      "1 3 5 4 2 6\n",
      "1 3 5 4 6 2\n",
      "1 3 5 6 2 4\n",
      "1 3 5 6 4 2\n",
      "1 3 6 2 4 5\n",
      "1 3 6 2 5 4\n",
      "1 3 6 4 2 5\n",
      "1 3 6 4 5 2\n",
      "1 3 6 5 2 4\n",
      "1 3 6 5 4 2\n",
      "1 4 2 3 5 6\n",
      "1 4 2 3 6 5\n",
      "1 4 2 5 3 6\n",
      "1 4 2 5 6 3\n",
      "1 4 2 6 3 5\n",
      "1 4 2 6 5 3\n",
      "1 4 3 2 5 6\n",
      "1 4 3 2 6 5\n",
      "1 4 3 5 2 6\n",
      "1 4 3 5 6 2\n",
      "1 4 3 6 2 5\n",
      "1 4 3 6 5 2\n",
      "1 4 5 2 3 6\n",
      "1 4 5 2 6 3\n",
      "1 4 5 3 2 6\n",
      "1 4 5 3 6 2\n",
      "1 4 5 6 2 3\n",
      "1 4 5 6 3 2\n",
      "1 4 6 2 3 5\n",
      "1 4 6 2 5 3\n",
      "1 4 6 3 2 5\n",
      "1 4 6 3 5 2\n",
      "1 4 6 5 2 3\n",
      "1 4 6 5 3 2\n",
      "1 5 2 3 4 6\n",
      "1 5 2 3 6 4\n",
      "1 5 2 4 3 6\n",
      "1 5 2 4 6 3\n",
      "1 5 2 6 3 4\n",
      "1 5 2 6 4 3\n",
      "1 5 3 2 4 6\n",
      "1 5 3 2 6 4\n",
      "1 5 3 4 2 6\n",
      "1 5 3 4 6 2\n",
      "1 5 3 6 2 4\n",
      "1 5 3 6 4 2\n",
      "1 5 4 2 3 6\n",
      "1 5 4 2 6 3\n",
      "1 5 4 3 2 6\n",
      "1 5 4 3 6 2\n",
      "1 5 4 6 2 3\n",
      "1 5 4 6 3 2\n",
      "1 5 6 2 3 4\n",
      "1 5 6 2 4 3\n",
      "1 5 6 3 2 4\n",
      "1 5 6 3 4 2\n",
      "1 5 6 4 2 3\n",
      "1 5 6 4 3 2\n",
      "1 6 2 3 4 5\n",
      "1 6 2 3 5 4\n",
      "1 6 2 4 3 5\n",
      "1 6 2 4 5 3\n",
      "1 6 2 5 3 4\n",
      "1 6 2 5 4 3\n",
      "1 6 3 2 4 5\n",
      "1 6 3 2 5 4\n",
      "1 6 3 4 2 5\n",
      "1 6 3 4 5 2\n",
      "1 6 3 5 2 4\n",
      "1 6 3 5 4 2\n",
      "1 6 4 2 3 5\n",
      "1 6 4 2 5 3\n",
      "1 6 4 3 2 5\n",
      "1 6 4 3 5 2\n",
      "1 6 4 5 2 3\n",
      "1 6 4 5 3 2\n",
      "1 6 5 2 3 4\n",
      "1 6 5 2 4 3\n",
      "1 6 5 3 2 4\n",
      "1 6 5 3 4 2\n",
      "1 6 5 4 2 3\n",
      "1 6 5 4 3 2\n",
      "2 1 3 4 5 6\n",
      "2 1 3 4 6 5\n",
      "2 1 3 5 4 6\n",
      "2 1 3 5 6 4\n",
      "2 1 3 6 4 5\n",
      "2 1 3 6 5 4\n",
      "2 1 4 3 5 6\n",
      "2 1 4 3 6 5\n",
      "2 1 4 5 3 6\n",
      "2 1 4 5 6 3\n",
      "2 1 4 6 3 5\n",
      "2 1 4 6 5 3\n",
      "2 1 5 3 4 6\n",
      "2 1 5 3 6 4\n",
      "2 1 5 4 3 6\n",
      "2 1 5 4 6 3\n",
      "2 1 5 6 3 4\n",
      "2 1 5 6 4 3\n",
      "2 1 6 3 4 5\n",
      "2 1 6 3 5 4\n",
      "2 1 6 4 3 5\n",
      "2 1 6 4 5 3\n",
      "2 1 6 5 3 4\n",
      "2 1 6 5 4 3\n",
      "2 3 1 4 5 6\n",
      "2 3 1 4 6 5\n",
      "2 3 1 5 4 6\n",
      "2 3 1 5 6 4\n",
      "2 3 1 6 4 5\n",
      "2 3 1 6 5 4\n",
      "2 3 4 1 5 6\n",
      "2 3 4 1 6 5\n",
      "2 3 4 5 1 6\n",
      "2 3 4 5 6 1\n",
      "2 3 4 6 1 5\n",
      "2 3 4 6 5 1\n",
      "2 3 5 1 4 6\n",
      "2 3 5 1 6 4\n",
      "2 3 5 4 1 6\n",
      "2 3 5 4 6 1\n",
      "2 3 5 6 1 4\n",
      "2 3 5 6 4 1\n",
      "2 3 6 1 4 5\n",
      "2 3 6 1 5 4\n",
      "2 3 6 4 1 5\n",
      "2 3 6 4 5 1\n",
      "2 3 6 5 1 4\n",
      "2 3 6 5 4 1\n",
      "2 4 1 3 5 6\n",
      "2 4 1 3 6 5\n",
      "2 4 1 5 3 6\n",
      "2 4 1 5 6 3\n",
      "2 4 1 6 3 5\n",
      "2 4 1 6 5 3\n",
      "2 4 3 1 5 6\n",
      "2 4 3 1 6 5\n",
      "2 4 3 5 1 6\n",
      "2 4 3 5 6 1\n",
      "2 4 3 6 1 5\n",
      "2 4 3 6 5 1\n",
      "2 4 5 1 3 6\n",
      "2 4 5 1 6 3\n",
      "2 4 5 3 1 6\n",
      "2 4 5 3 6 1\n",
      "2 4 5 6 1 3\n",
      "2 4 5 6 3 1\n",
      "2 4 6 1 3 5\n",
      "2 4 6 1 5 3\n",
      "2 4 6 3 1 5\n",
      "2 4 6 3 5 1\n",
      "2 4 6 5 1 3\n",
      "2 4 6 5 3 1\n",
      "2 5 1 3 4 6\n",
      "2 5 1 3 6 4\n",
      "2 5 1 4 3 6\n",
      "2 5 1 4 6 3\n",
      "2 5 1 6 3 4\n",
      "2 5 1 6 4 3\n",
      "2 5 3 1 4 6\n",
      "2 5 3 1 6 4\n",
      "2 5 3 4 1 6\n",
      "2 5 3 4 6 1\n",
      "2 5 3 6 1 4\n",
      "2 5 3 6 4 1\n",
      "2 5 4 1 3 6\n",
      "2 5 4 1 6 3\n",
      "2 5 4 3 1 6\n",
      "2 5 4 3 6 1\n",
      "2 5 4 6 1 3\n",
      "2 5 4 6 3 1\n",
      "2 5 6 1 3 4\n",
      "2 5 6 1 4 3\n",
      "2 5 6 3 1 4\n",
      "2 5 6 3 4 1\n",
      "2 5 6 4 1 3\n",
      "2 5 6 4 3 1\n",
      "2 6 1 3 4 5\n",
      "2 6 1 3 5 4\n",
      "2 6 1 4 3 5\n",
      "2 6 1 4 5 3\n",
      "2 6 1 5 3 4\n",
      "2 6 1 5 4 3\n",
      "2 6 3 1 4 5\n",
      "2 6 3 1 5 4\n",
      "2 6 3 4 1 5\n",
      "2 6 3 4 5 1\n",
      "2 6 3 5 1 4\n",
      "2 6 3 5 4 1\n",
      "2 6 4 1 3 5\n",
      "2 6 4 1 5 3\n",
      "2 6 4 3 1 5\n",
      "2 6 4 3 5 1\n",
      "2 6 4 5 1 3\n",
      "2 6 4 5 3 1\n",
      "2 6 5 1 3 4\n",
      "2 6 5 1 4 3\n",
      "2 6 5 3 1 4\n",
      "2 6 5 3 4 1\n",
      "2 6 5 4 1 3\n",
      "2 6 5 4 3 1\n",
      "3 1 2 4 5 6\n",
      "3 1 2 4 6 5\n",
      "3 1 2 5 4 6\n",
      "3 1 2 5 6 4\n",
      "3 1 2 6 4 5\n",
      "3 1 2 6 5 4\n",
      "3 1 4 2 5 6\n",
      "3 1 4 2 6 5\n",
      "3 1 4 5 2 6\n",
      "3 1 4 5 6 2\n",
      "3 1 4 6 2 5\n",
      "3 1 4 6 5 2\n",
      "3 1 5 2 4 6\n",
      "3 1 5 2 6 4\n",
      "3 1 5 4 2 6\n",
      "3 1 5 4 6 2\n",
      "3 1 5 6 2 4\n",
      "3 1 5 6 4 2\n",
      "3 1 6 2 4 5\n",
      "3 1 6 2 5 4\n",
      "3 1 6 4 2 5\n",
      "3 1 6 4 5 2\n",
      "3 1 6 5 2 4\n",
      "3 1 6 5 4 2\n",
      "3 2 1 4 5 6\n",
      "3 2 1 4 6 5\n",
      "3 2 1 5 4 6\n",
      "3 2 1 5 6 4\n",
      "3 2 1 6 4 5\n",
      "3 2 1 6 5 4\n",
      "3 2 4 1 5 6\n",
      "3 2 4 1 6 5\n",
      "3 2 4 5 1 6\n",
      "3 2 4 5 6 1\n",
      "3 2 4 6 1 5\n",
      "3 2 4 6 5 1\n",
      "3 2 5 1 4 6\n",
      "3 2 5 1 6 4\n",
      "3 2 5 4 1 6\n",
      "3 2 5 4 6 1\n",
      "3 2 5 6 1 4\n",
      "3 2 5 6 4 1\n",
      "3 2 6 1 4 5\n",
      "3 2 6 1 5 4\n",
      "3 2 6 4 1 5\n",
      "3 2 6 4 5 1\n",
      "3 2 6 5 1 4\n",
      "3 2 6 5 4 1\n",
      "3 4 1 2 5 6\n",
      "3 4 1 2 6 5\n",
      "3 4 1 5 2 6\n",
      "3 4 1 5 6 2\n",
      "3 4 1 6 2 5\n",
      "3 4 1 6 5 2\n",
      "3 4 2 1 5 6\n",
      "3 4 2 1 6 5\n",
      "3 4 2 5 1 6\n",
      "3 4 2 5 6 1\n",
      "3 4 2 6 1 5\n",
      "3 4 2 6 5 1\n",
      "3 4 5 1 2 6\n",
      "3 4 5 1 6 2\n",
      "3 4 5 2 1 6\n",
      "3 4 5 2 6 1\n",
      "3 4 5 6 1 2\n",
      "3 4 5 6 2 1\n",
      "3 4 6 1 2 5\n",
      "3 4 6 1 5 2\n",
      "3 4 6 2 1 5\n",
      "3 4 6 2 5 1\n",
      "3 4 6 5 1 2\n",
      "3 4 6 5 2 1\n",
      "3 5 1 2 4 6\n",
      "3 5 1 2 6 4\n",
      "3 5 1 4 2 6\n",
      "3 5 1 4 6 2\n",
      "3 5 1 6 2 4\n",
      "3 5 1 6 4 2\n",
      "3 5 2 1 4 6\n",
      "3 5 2 1 6 4\n",
      "3 5 2 4 1 6\n",
      "3 5 2 4 6 1\n",
      "3 5 2 6 1 4\n",
      "3 5 2 6 4 1\n",
      "3 5 4 1 2 6\n",
      "3 5 4 1 6 2\n",
      "3 5 4 2 1 6\n",
      "3 5 4 2 6 1\n",
      "3 5 4 6 1 2\n",
      "3 5 4 6 2 1\n",
      "3 5 6 1 2 4\n",
      "3 5 6 1 4 2\n",
      "3 5 6 2 1 4\n",
      "3 5 6 2 4 1\n",
      "3 5 6 4 1 2\n",
      "3 5 6 4 2 1\n",
      "3 6 1 2 4 5\n",
      "3 6 1 2 5 4\n",
      "3 6 1 4 2 5\n",
      "3 6 1 4 5 2\n",
      "3 6 1 5 2 4\n",
      "3 6 1 5 4 2\n",
      "3 6 2 1 4 5\n",
      "3 6 2 1 5 4\n",
      "3 6 2 4 1 5\n",
      "3 6 2 4 5 1\n",
      "3 6 2 5 1 4\n",
      "3 6 2 5 4 1\n",
      "3 6 4 1 2 5\n",
      "3 6 4 1 5 2\n",
      "3 6 4 2 1 5\n",
      "3 6 4 2 5 1\n",
      "3 6 4 5 1 2\n",
      "3 6 4 5 2 1\n",
      "3 6 5 1 2 4\n",
      "3 6 5 1 4 2\n",
      "3 6 5 2 1 4\n",
      "3 6 5 2 4 1\n",
      "3 6 5 4 1 2\n",
      "3 6 5 4 2 1\n",
      "4 1 2 3 5 6\n",
      "4 1 2 3 6 5\n",
      "4 1 2 5 3 6\n",
      "4 1 2 5 6 3\n",
      "4 1 2 6 3 5\n",
      "4 1 2 6 5 3\n",
      "4 1 3 2 5 6\n",
      "4 1 3 2 6 5\n",
      "4 1 3 5 2 6\n",
      "4 1 3 5 6 2\n",
      "4 1 3 6 2 5\n",
      "4 1 3 6 5 2\n",
      "4 1 5 2 3 6\n",
      "4 1 5 2 6 3\n",
      "4 1 5 3 2 6\n",
      "4 1 5 3 6 2\n",
      "4 1 5 6 2 3\n",
      "4 1 5 6 3 2\n",
      "4 1 6 2 3 5\n",
      "4 1 6 2 5 3\n",
      "4 1 6 3 2 5\n",
      "4 1 6 3 5 2\n",
      "4 1 6 5 2 3\n",
      "4 1 6 5 3 2\n",
      "4 2 1 3 5 6\n",
      "4 2 1 3 6 5\n",
      "4 2 1 5 3 6\n",
      "4 2 1 5 6 3\n",
      "4 2 1 6 3 5\n",
      "4 2 1 6 5 3\n",
      "4 2 3 1 5 6\n",
      "4 2 3 1 6 5\n",
      "4 2 3 5 1 6\n",
      "4 2 3 5 6 1\n",
      "4 2 3 6 1 5\n",
      "4 2 3 6 5 1\n",
      "4 2 5 1 3 6\n",
      "4 2 5 1 6 3\n",
      "4 2 5 3 1 6\n",
      "4 2 5 3 6 1\n",
      "4 2 5 6 1 3\n",
      "4 2 5 6 3 1\n",
      "4 2 6 1 3 5\n",
      "4 2 6 1 5 3\n",
      "4 2 6 3 1 5\n",
      "4 2 6 3 5 1\n",
      "4 2 6 5 1 3\n",
      "4 2 6 5 3 1\n",
      "4 3 1 2 5 6\n",
      "4 3 1 2 6 5\n",
      "4 3 1 5 2 6\n",
      "4 3 1 5 6 2\n",
      "4 3 1 6 2 5\n",
      "4 3 1 6 5 2\n",
      "4 3 2 1 5 6\n",
      "4 3 2 1 6 5\n",
      "4 3 2 5 1 6\n",
      "4 3 2 5 6 1\n",
      "4 3 2 6 1 5\n",
      "4 3 2 6 5 1\n",
      "4 3 5 1 2 6\n",
      "4 3 5 1 6 2\n",
      "4 3 5 2 1 6\n",
      "4 3 5 2 6 1\n",
      "4 3 5 6 1 2\n",
      "4 3 5 6 2 1\n",
      "4 3 6 1 2 5\n",
      "4 3 6 1 5 2\n",
      "4 3 6 2 1 5\n",
      "4 3 6 2 5 1\n",
      "4 3 6 5 1 2\n",
      "4 3 6 5 2 1\n",
      "4 5 1 2 3 6\n",
      "4 5 1 2 6 3\n",
      "4 5 1 3 2 6\n",
      "4 5 1 3 6 2\n",
      "4 5 1 6 2 3\n",
      "4 5 1 6 3 2\n",
      "4 5 2 1 3 6\n",
      "4 5 2 1 6 3\n",
      "4 5 2 3 1 6\n",
      "4 5 2 3 6 1\n",
      "4 5 2 6 1 3\n",
      "4 5 2 6 3 1\n",
      "4 5 3 1 2 6\n",
      "4 5 3 1 6 2\n",
      "4 5 3 2 1 6\n",
      "4 5 3 2 6 1\n",
      "4 5 3 6 1 2\n",
      "4 5 3 6 2 1\n",
      "4 5 6 1 2 3\n",
      "4 5 6 1 3 2\n",
      "4 5 6 2 1 3\n",
      "4 5 6 2 3 1\n",
      "4 5 6 3 1 2\n",
      "4 5 6 3 2 1\n",
      "4 6 1 2 3 5\n",
      "4 6 1 2 5 3\n",
      "4 6 1 3 2 5\n",
      "4 6 1 3 5 2\n",
      "4 6 1 5 2 3\n",
      "4 6 1 5 3 2\n",
      "4 6 2 1 3 5\n",
      "4 6 2 1 5 3\n",
      "4 6 2 3 1 5\n",
      "4 6 2 3 5 1\n",
      "4 6 2 5 1 3\n",
      "4 6 2 5 3 1\n",
      "4 6 3 1 2 5\n",
      "4 6 3 1 5 2\n",
      "4 6 3 2 1 5\n",
      "4 6 3 2 5 1\n",
      "4 6 3 5 1 2\n",
      "4 6 3 5 2 1\n",
      "4 6 5 1 2 3\n",
      "4 6 5 1 3 2\n",
      "4 6 5 2 1 3\n",
      "4 6 5 2 3 1\n",
      "4 6 5 3 1 2\n",
      "4 6 5 3 2 1\n",
      "5 1 2 3 4 6\n",
      "5 1 2 3 6 4\n",
      "5 1 2 4 3 6\n",
      "5 1 2 4 6 3\n",
      "5 1 2 6 3 4\n",
      "5 1 2 6 4 3\n",
      "5 1 3 2 4 6\n",
      "5 1 3 2 6 4\n",
      "5 1 3 4 2 6\n",
      "5 1 3 4 6 2\n",
      "5 1 3 6 2 4\n",
      "5 1 3 6 4 2\n",
      "5 1 4 2 3 6\n",
      "5 1 4 2 6 3\n",
      "5 1 4 3 2 6\n",
      "5 1 4 3 6 2\n",
      "5 1 4 6 2 3\n",
      "5 1 4 6 3 2\n",
      "5 1 6 2 3 4\n",
      "5 1 6 2 4 3\n",
      "5 1 6 3 2 4\n",
      "5 1 6 3 4 2\n",
      "5 1 6 4 2 3\n",
      "5 1 6 4 3 2\n",
      "5 2 1 3 4 6\n",
      "5 2 1 3 6 4\n",
      "5 2 1 4 3 6\n",
      "5 2 1 4 6 3\n",
      "5 2 1 6 3 4\n",
      "5 2 1 6 4 3\n",
      "5 2 3 1 4 6\n",
      "5 2 3 1 6 4\n",
      "5 2 3 4 1 6\n",
      "5 2 3 4 6 1\n",
      "5 2 3 6 1 4\n",
      "5 2 3 6 4 1\n",
      "5 2 4 1 3 6\n",
      "5 2 4 1 6 3\n",
      "5 2 4 3 1 6\n",
      "5 2 4 3 6 1\n",
      "5 2 4 6 1 3\n",
      "5 2 4 6 3 1\n",
      "5 2 6 1 3 4\n",
      "5 2 6 1 4 3\n",
      "5 2 6 3 1 4\n",
      "5 2 6 3 4 1\n",
      "5 2 6 4 1 3\n",
      "5 2 6 4 3 1\n",
      "5 3 1 2 4 6\n",
      "5 3 1 2 6 4\n",
      "5 3 1 4 2 6\n",
      "5 3 1 4 6 2\n",
      "5 3 1 6 2 4\n",
      "5 3 1 6 4 2\n",
      "5 3 2 1 4 6\n",
      "5 3 2 1 6 4\n",
      "5 3 2 4 1 6\n",
      "5 3 2 4 6 1\n",
      "5 3 2 6 1 4\n",
      "5 3 2 6 4 1\n",
      "5 3 4 1 2 6\n",
      "5 3 4 1 6 2\n",
      "5 3 4 2 1 6\n",
      "5 3 4 2 6 1\n",
      "5 3 4 6 1 2\n",
      "5 3 4 6 2 1\n",
      "5 3 6 1 2 4\n",
      "5 3 6 1 4 2\n",
      "5 3 6 2 1 4\n",
      "5 3 6 2 4 1\n",
      "5 3 6 4 1 2\n",
      "5 3 6 4 2 1\n",
      "5 4 1 2 3 6\n",
      "5 4 1 2 6 3\n",
      "5 4 1 3 2 6\n",
      "5 4 1 3 6 2\n",
      "5 4 1 6 2 3\n",
      "5 4 1 6 3 2\n",
      "5 4 2 1 3 6\n",
      "5 4 2 1 6 3\n",
      "5 4 2 3 1 6\n",
      "5 4 2 3 6 1\n",
      "5 4 2 6 1 3\n",
      "5 4 2 6 3 1\n",
      "5 4 3 1 2 6\n",
      "5 4 3 1 6 2\n",
      "5 4 3 2 1 6\n",
      "5 4 3 2 6 1\n",
      "5 4 3 6 1 2\n",
      "5 4 3 6 2 1\n",
      "5 4 6 1 2 3\n",
      "5 4 6 1 3 2\n",
      "5 4 6 2 1 3\n",
      "5 4 6 2 3 1\n",
      "5 4 6 3 1 2\n",
      "5 4 6 3 2 1\n",
      "5 6 1 2 3 4\n",
      "5 6 1 2 4 3\n",
      "5 6 1 3 2 4\n",
      "5 6 1 3 4 2\n",
      "5 6 1 4 2 3\n",
      "5 6 1 4 3 2\n",
      "5 6 2 1 3 4\n",
      "5 6 2 1 4 3\n",
      "5 6 2 3 1 4\n",
      "5 6 2 3 4 1\n",
      "5 6 2 4 1 3\n",
      "5 6 2 4 3 1\n",
      "5 6 3 1 2 4\n",
      "5 6 3 1 4 2\n",
      "5 6 3 2 1 4\n",
      "5 6 3 2 4 1\n",
      "5 6 3 4 1 2\n",
      "5 6 3 4 2 1\n",
      "5 6 4 1 2 3\n",
      "5 6 4 1 3 2\n",
      "5 6 4 2 1 3\n",
      "5 6 4 2 3 1\n",
      "5 6 4 3 1 2\n",
      "5 6 4 3 2 1\n",
      "6 1 2 3 4 5\n",
      "6 1 2 3 5 4\n",
      "6 1 2 4 3 5\n",
      "6 1 2 4 5 3\n",
      "6 1 2 5 3 4\n",
      "6 1 2 5 4 3\n",
      "6 1 3 2 4 5\n",
      "6 1 3 2 5 4\n",
      "6 1 3 4 2 5\n",
      "6 1 3 4 5 2\n",
      "6 1 3 5 2 4\n",
      "6 1 3 5 4 2\n",
      "6 1 4 2 3 5\n",
      "6 1 4 2 5 3\n",
      "6 1 4 3 2 5\n",
      "6 1 4 3 5 2\n",
      "6 1 4 5 2 3\n",
      "6 1 4 5 3 2\n",
      "6 1 5 2 3 4\n",
      "6 1 5 2 4 3\n",
      "6 1 5 3 2 4\n",
      "6 1 5 3 4 2\n",
      "6 1 5 4 2 3\n",
      "6 1 5 4 3 2\n",
      "6 2 1 3 4 5\n",
      "6 2 1 3 5 4\n",
      "6 2 1 4 3 5\n",
      "6 2 1 4 5 3\n",
      "6 2 1 5 3 4\n",
      "6 2 1 5 4 3\n",
      "6 2 3 1 4 5\n",
      "6 2 3 1 5 4\n",
      "6 2 3 4 1 5\n",
      "6 2 3 4 5 1\n",
      "6 2 3 5 1 4\n",
      "6 2 3 5 4 1\n",
      "6 2 4 1 3 5\n",
      "6 2 4 1 5 3\n",
      "6 2 4 3 1 5\n",
      "6 2 4 3 5 1\n",
      "6 2 4 5 1 3\n",
      "6 2 4 5 3 1\n",
      "6 2 5 1 3 4\n",
      "6 2 5 1 4 3\n",
      "6 2 5 3 1 4\n",
      "6 2 5 3 4 1\n",
      "6 2 5 4 1 3\n",
      "6 2 5 4 3 1\n",
      "6 3 1 2 4 5\n",
      "6 3 1 2 5 4\n",
      "6 3 1 4 2 5\n",
      "6 3 1 4 5 2\n",
      "6 3 1 5 2 4\n",
      "6 3 1 5 4 2\n",
      "6 3 2 1 4 5\n",
      "6 3 2 1 5 4\n",
      "6 3 2 4 1 5\n",
      "6 3 2 4 5 1\n",
      "6 3 2 5 1 4\n",
      "6 3 2 5 4 1\n",
      "6 3 4 1 2 5\n",
      "6 3 4 1 5 2\n",
      "6 3 4 2 1 5\n",
      "6 3 4 2 5 1\n",
      "6 3 4 5 1 2\n",
      "6 3 4 5 2 1\n",
      "6 3 5 1 2 4\n",
      "6 3 5 1 4 2\n",
      "6 3 5 2 1 4\n",
      "6 3 5 2 4 1\n",
      "6 3 5 4 1 2\n",
      "6 3 5 4 2 1\n",
      "6 4 1 2 3 5\n",
      "6 4 1 2 5 3\n",
      "6 4 1 3 2 5\n",
      "6 4 1 3 5 2\n",
      "6 4 1 5 2 3\n",
      "6 4 1 5 3 2\n",
      "6 4 2 1 3 5\n",
      "6 4 2 1 5 3\n",
      "6 4 2 3 1 5\n",
      "6 4 2 3 5 1\n",
      "6 4 2 5 1 3\n",
      "6 4 2 5 3 1\n",
      "6 4 3 1 2 5\n",
      "6 4 3 1 5 2\n",
      "6 4 3 2 1 5\n",
      "6 4 3 2 5 1\n",
      "6 4 3 5 1 2\n",
      "6 4 3 5 2 1\n",
      "6 4 5 1 2 3\n",
      "6 4 5 1 3 2\n",
      "6 4 5 2 1 3\n",
      "6 4 5 2 3 1\n",
      "6 4 5 3 1 2\n",
      "6 4 5 3 2 1\n",
      "6 5 1 2 3 4\n",
      "6 5 1 2 4 3\n",
      "6 5 1 3 2 4\n",
      "6 5 1 3 4 2\n",
      "6 5 1 4 2 3\n",
      "6 5 1 4 3 2\n",
      "6 5 2 1 3 4\n",
      "6 5 2 1 4 3\n",
      "6 5 2 3 1 4\n",
      "6 5 2 3 4 1\n",
      "6 5 2 4 1 3\n",
      "6 5 2 4 3 1\n",
      "6 5 3 1 2 4\n",
      "6 5 3 1 4 2\n",
      "6 5 3 2 1 4\n",
      "6 5 3 2 4 1\n",
      "6 5 3 4 1 2\n",
      "6 5 3 4 2 1\n",
      "6 5 4 1 2 3\n",
      "6 5 4 1 3 2\n",
      "6 5 4 2 1 3\n",
      "6 5 4 2 3 1\n",
      "6 5 4 3 1 2\n",
      "6 5 4 3 2 1\n"
     ]
    }
   ],
   "source": [
    "my_permutations(6)"
   ]
  },
  {
   "cell_type": "markdown",
   "metadata": {
    "heading_collapsed": true
   },
   "source": [
    "## Calculating Protein Mass"
   ]
  },
  {
   "cell_type": "markdown",
   "metadata": {
    "hidden": true
   },
   "source": [
    "Problem\n",
    "In a weighted alphabet, every symbol is assigned a positive real number called a weight. A string formed from a weighted alphabet is called a weighted string, and its weight is equal to the sum of the weights of its symbols.\n",
    "\n",
    "The standard weight assigned to each member of the 20-symbol amino acid alphabet is the monoisotopic mass of the corresponding amino acid.\n",
    "\n",
    "Given: A protein string P of length at most 1000 aa.\n",
    "\n",
    "Return: The total weight of P. Consult the monoisotopic mass table."
   ]
  },
  {
   "cell_type": "code",
   "execution_count": 185,
   "metadata": {
    "hidden": true
   },
   "outputs": [
    {
     "data": {
      "text/plain": [
       "{'A': 71.03711,\n",
       " 'C': 103.00919,\n",
       " 'D': 115.02694,\n",
       " 'E': 129.04259,\n",
       " 'F': 147.06841,\n",
       " 'G': 57.02146,\n",
       " 'H': 137.05891,\n",
       " 'I': 113.08406,\n",
       " 'K': 128.09496,\n",
       " 'L': 113.08406,\n",
       " 'M': 131.04049,\n",
       " 'N': 114.04293,\n",
       " 'P': 97.05276,\n",
       " 'Q': 128.05858,\n",
       " 'R': 156.10111,\n",
       " 'S': 87.03203,\n",
       " 'T': 101.04768,\n",
       " 'V': 99.06841,\n",
       " 'W': 186.07931,\n",
       " 'Y': 163.06333}"
      ]
     },
     "execution_count": 185,
     "metadata": {},
     "output_type": "execute_result"
    }
   ],
   "source": [
    "# Read the codon table\n",
    "\n",
    "f = open(\"aa_mass_table.txt\", \"r\")\n",
    "a = f.readlines()\n",
    "\n",
    "table = {}\n",
    "for line in a:\n",
    "    parsed_line, = line.replace(\"\\n\", \"\").replace(\" \", \"\").split(\" \")\n",
    "    aa = parsed_line[0]\n",
    "    mass = float(parsed_line[1:])\n",
    "    table[aa] = mass\n",
    "table"
   ]
  },
  {
   "cell_type": "code",
   "execution_count": 186,
   "metadata": {
    "hidden": true
   },
   "outputs": [],
   "source": [
    "def protein_mass(seq, mass_table):\n",
    "    mass = 0\n",
    "    \n",
    "    for aa in seq:\n",
    "        mass += mass_table[aa]\n",
    "    return mass"
   ]
  },
  {
   "cell_type": "code",
   "execution_count": 188,
   "metadata": {
    "hidden": true
   },
   "outputs": [
    {
     "data": {
      "text/plain": [
       "'YFKPKQKSNYQGLFGAKMGEGAWNVVTYTVSQHWFENWACCAQNRKSCIAGTRTCSRDDFQWCWNIWDSLPTCMRVMTFIFFMWTMQNLARVMNAMYLYSSYAFKKSQPHHNTYCSCVMPQQFCPHWGPHMLDACNDPRVVGSEKTWLEGGNTAYQVTCNMHQYHVHPIRRCIINTTIALADTIYFALLSCVWMCLWIEREWMDCCGYEFWMVYAGVSYVQWPACDIIIPYSRNEYRQHRYVKIPSWMKEIRYLQSIHQVLTGKWKMIHLQQGKIYHQCAHCCTSVSFTCRGMPHLKEWERHNYQEPKIYALVLWGYKVQIWYGAFQLGIWAEHIVIKLPMNVWKNPDMVGHVVLRRWLIHAMECIGLEGMFLFPQFYAFCMHNHGMKDWVLGYGVDDPQHMKHRVHEQFHSCICLEFKQVWGAVRICQVQHGYFFAYCRHKSCNDDWSNHCDEHKAMNKVVGHLDVSETPHPPIVDDQGMAISFYLIYLCLGPIFPFERWFPHTSYKDHWEIRHHTEQRERMNDYWKVHCHLSAYRESKQTNKFMQEYVLVHEICCQNTVDEGGMQCWEHWTYHIWFAAIIPSRNDTSSHVSMAKLNTSCKERATVFRIQWLRSKQTCFYYHVFFWWPHCSHTQMGRSCCQKPAGNRCILWYLCNVSDMCAKCVSWPFIGTFYVRQPSPWGACGPLYQATHCILYDEVAFATMTHMHPMHSRNHETDAQACHAINTGCYELDTIYNYPQRSNPGNDFQLHDKKPMNQPDTGAVIEFCASFYRWIILRQTHLCHMMKKYPACGYMPIQNLIIHRMAQHKVPCFHESMMAFPWTWAPPDMYCLIPCQGIDYSCHYRHQSTFPFCHPPELNMGLKTFNKSCKEKRHCQCVHHICMVEWKRDMRPCMECARGNQCYGSYSLVEWDIDKETKHYRFKFHQIDGCACGDDPSNPINAEGENMFVFNIATEIIEWQQLTPEEDISICALHMHIMGKENMFNHADSVYHR'"
      ]
     },
     "execution_count": 188,
     "metadata": {},
     "output_type": "execute_result"
    }
   ],
   "source": [
    "f = open(\"rosalind_prtm.txt\", \"r\")\n",
    "seq = f.read().replace(\"\\n\", \"\")\n",
    "seq"
   ]
  },
  {
   "cell_type": "code",
   "execution_count": 189,
   "metadata": {
    "hidden": true
   },
   "outputs": [
    {
     "data": {
      "text/plain": [
       "117673.94449000055"
      ]
     },
     "execution_count": 189,
     "metadata": {},
     "output_type": "execute_result"
    }
   ],
   "source": [
    "protein_mass(seq, table)"
   ]
  },
  {
   "cell_type": "markdown",
   "metadata": {
    "heading_collapsed": true
   },
   "source": [
    "## Locating Restriction Sites"
   ]
  },
  {
   "cell_type": "markdown",
   "metadata": {
    "hidden": true
   },
   "source": [
    "Problem\n",
    "\n",
    "Figure 2. Palindromic recognition site\n",
    "A DNA string is a reverse palindrome if it is equal to its reverse complement. For instance, GCATGC is a reverse palindrome because its reverse complement is GCATGC. See Figure 2.\n",
    "\n",
    "Given: A DNA string of length at most 1 kbp in FASTA format.\n",
    "\n",
    "Return: The position and length of every reverse palindrome in the string having length between 4 and 12. You may return these pairs in any order."
   ]
  },
  {
   "cell_type": "code",
   "execution_count": 276,
   "metadata": {
    "hidden": true
   },
   "outputs": [],
   "source": [
    "def find_palindromic(seq, n_min=4, n_max=12):\n",
    "    N = len(seq)\n",
    "    for i in range(N):\n",
    "        for window in range(n_min, n_max+1, 2):\n",
    "            if i + window <= N:\n",
    "                _check_palindromic(seq[i: i + window], i, window)\n",
    "    return\n",
    "\n",
    "def _check_palindromic(section, i, window):\n",
    "    section_rev = reverse_complement(section)\n",
    "    if section == section_rev:\n",
    "        print(i+1, window)\n",
    "    return"
   ]
  },
  {
   "cell_type": "code",
   "execution_count": 277,
   "metadata": {
    "hidden": true
   },
   "outputs": [
    {
     "data": {
      "text/plain": [
       "'CGCGCCGATTGCGGTTATAACTGTAAATGTGGTGTTGACCATGGCTACGCCTCGGTGACCGGAGACGGAGTTGCTCTTACGGAACGAGTTGTCCAATAATCTTCAAATAACTCAAGGAATAACTTGGCTAAACGCCATATCCGCCCGGTGCAGGATGGCACTACCCACTAGGGACCCAGGGTCGCCAATGGGTCCGTCTTTTAGCCCAGGCAAGCGCCTCCATAGGACAGCTTCAACCAGTCCGGGCAACCTCGGTACCAGATGGAGTGCCGAAGTGTAGTAAAGAAGAGCGGTTACAGATATACAGGCAAGTAATTCGGAGCGCATGCCTGCGAATTTTCGATCATCCTCTCACTGCAGATACCCACGTAGATGAATGGTCCTCTCTCTACAATAAGCGAATCAACGTGTGACAGATTCGGACACCGGTCGCGCGACGTTCGAAGGCCGCGGCCTATACCTGTAAATGCTACTGAGCAATGAGATGAGTTTGGCGATTGAAGATACCACCACGGGTAAACCGACTTCAAGAGTTGCACGGGCCCAAACATCACGGGCCTTTTCGTAAAGATAATCCCAGTAAGTCTCCTATCCGAAGAGCAGCTGACATGGGCCGAAAGATCGCTAAGTCATGTAGGAACCTGGCACGTTTCAGCAGGGCCCCCACCCGGGTAGAGGTAATCGAAGTGTACGGAAGATGGGAGCGTAACCAGACGCCATCAAGTTATCAAGTCTCGGGTCCTGCGACCTTGAAGTAACGAATTACGGCTGTCCAACCCCAGATTAAGTGTACCCTCCGCGCTACGCTCCCTTGCGGCCAATGCTCTAAGAAGGTAAAAGGAGATAGTTGCAAACGTCATTCTAAAATACAGGGGAAGGGTGTGGATTGGTCATGGCGCG'"
      ]
     },
     "execution_count": 277,
     "metadata": {},
     "output_type": "execute_result"
    }
   ],
   "source": [
    "f = read_fasta(\"rosalind_revp.txt\")\n",
    "# seq = f.read().replace(\"\\n\", \"\")\n",
    "# f\n",
    "for k, v in f.items():\n",
    "    seq = v\n",
    "seq\n",
    "# seq = \"TATATA\"\n",
    "# seq = \"TCAATGCATGCGGGTCTATATGCAT\""
   ]
  },
  {
   "cell_type": "code",
   "execution_count": 278,
   "metadata": {
    "hidden": true,
    "scrolled": true
   },
   "outputs": [
    {
     "name": "stdout",
     "output_type": "stream",
     "text": [
      "1 4\n",
      "2 4\n",
      "14 8\n",
      "15 6\n",
      "16 4\n",
      "39 6\n",
      "40 4\n",
      "59 4\n",
      "137 4\n",
      "145 4\n",
      "149 4\n",
      "168 4\n",
      "214 4\n",
      "229 4\n",
      "242 4\n",
      "254 6\n",
      "255 4\n",
      "300 4\n",
      "301 4\n",
      "314 4\n",
      "322 4\n",
      "324 6\n",
      "325 4\n",
      "335 4\n",
      "340 4\n",
      "342 4\n",
      "355 6\n",
      "356 4\n",
      "367 4\n",
      "406 4\n",
      "425 6\n",
      "426 4\n",
      "429 10\n",
      "430 8\n",
      "431 4\n",
      "431 6\n",
      "432 4\n",
      "433 4\n",
      "437 4\n",
      "440 6\n",
      "441 4\n",
      "445 12\n",
      "446 4\n",
      "446 10\n",
      "447 8\n",
      "448 6\n",
      "449 4\n",
      "452 4\n",
      "456 4\n",
      "535 4\n",
      "540 6\n",
      "541 4\n",
      "556 4\n",
      "601 6\n",
      "602 4\n",
      "608 4\n",
      "612 4\n",
      "620 4\n",
      "631 4\n",
      "647 4\n",
      "658 6\n",
      "659 4\n",
      "666 8\n",
      "667 6\n",
      "668 4\n",
      "682 4\n",
      "689 4\n",
      "761 4\n",
      "784 4\n",
      "790 4\n",
      "798 4\n",
      "799 4\n",
      "816 4\n",
      "848 6\n",
      "849 4\n",
      "854 4\n",
      "892 4\n",
      "896 4\n",
      "897 4\n"
     ]
    }
   ],
   "source": [
    "find_palindromic(seq, n_min=4, n_max=12)"
   ]
  },
  {
   "cell_type": "markdown",
   "metadata": {
    "heading_collapsed": true
   },
   "source": [
    "## Finding a Motif in DNA "
   ]
  },
  {
   "cell_type": "markdown",
   "metadata": {
    "hidden": true
   },
   "source": [
    "Given two strings s and t, t is a substring of s if t is contained as a contiguous collection of symbols in s (as a result, t must be no longer than s).\n",
    "\n",
    "The position of a symbol in a string is the total number of symbols found to its left, including itself (e.g., the positions of all occurrences of 'U' in \"AUGCUUCAGAAAGGUCUUACG\" are 2, 5, 6, 15, 17, and 18). The symbol at position i of s is denoted by s[i].\n",
    "\n",
    "A substring of s can be represented as s[j:k], where j and k represent the starting and ending positions of the substring in s; for example, if s = \"AUGCUUCAGAAAGGUCUUACG\", then s[2:5] = \"UGCU\".\n",
    "\n",
    "The location of a substring s[j:k] is its beginning position j; note that t will have multiple locations in s if it occurs more than once as a substring of s (see the Sample below).\n",
    "\n",
    "Given: Two DNA strings s and t (each of length at most 1 kbp).\n",
    "\n",
    "Return: All locations of t as a substring of s."
   ]
  },
  {
   "cell_type": "code",
   "execution_count": 234,
   "metadata": {
    "hidden": true
   },
   "outputs": [],
   "source": [
    "def find_substring_location(s, t):\n",
    "    Ns = len(s)\n",
    "    Nt = len(t)\n",
    "    locs = [str(i+1) for i in range(Ns-Nt) if t in s[i:i+Nt]]   # i+1 due to the difference in indexing Python vs question\n",
    "    return \" \".join(locs)"
   ]
  },
  {
   "cell_type": "code",
   "execution_count": 233,
   "metadata": {
    "hidden": true
   },
   "outputs": [],
   "source": [
    "# s = \"TCGACCCCTCGACCCTTCGACCCTTCGACCCTGGTAACGTTCGACCCTCGACCCGTCGACCCTCGACCCGTCACAGCTGTCGACCCTAGATTTCGACCCGGTCGACCCGGCATTCGACCCGTTCGACCCTGTCGACCCCTCGACCCTCGACCCGCATCTATTATCGACCCGTCGACCCACGTCGACCCTCGACCCTCCTCGACCCACACGTCGACCCGCGACTTCGACCCGTGTTCGACCCTCGACCCCCCTCGACCCTTTGAGCTTTACTTTCGACCCTTTCGACCCTCGACCCAATCGACCCTTTCGACCCCGTCGACCCGCTAAGTTCGACCCCATCGACCCAACGTCGACCCTTCGACCCCTCGACCCTGATCGACCCTCGACCCGTCGACCCGAGGATCGACCCTCGACCCATCGACCCTCGACCCTGTCGACCCGTATCGACCCTCGACCCTTCGACCCCTATAATCGACCCGTGTAGCTCTCGACCCTAGGTATCGACCCTCGACCCGGTCGACCCCAGTCGACCCACGGTTCGACCCCTCGACCCGGGTTCGACCCATCGACCCTTCGACCCGCATTGACGATCGACCCCCTCTCGACCCACTTCGACCCTCGACCCTTTCTCGACCCATCGACCCCTTGTCTTCGACCCCTCGACCCTCGACCCTCGACCCCCATATCGACCCAGGGGAACATCGACCCGATTCGACCCCTTCGACCCCCTCGACCCGGGTTGGTCGACCCATTTCGACCCATCGACCCACTTCGACCCGGTCCGCTCGACCCAATGTCGACCCTCGACCCTTCGAGTCGACCCTCGACCCTCGACCCCAAATCGACCCGTCGACCCCGGTCGACCCTAAGTCGACCCGTCGACCCTCGGGAGTCGAATCGACCCTTCCGTCGACCCTGAATCGACCCCTCGTCGCTCCATCGACCCATCGACCCGGCAATCGACCCACTCGACCCTTTCGACCCTCGACCCTCGACCC\"\n",
    "# t = \"TCGACCCTC\""
   ]
  },
  {
   "cell_type": "code",
   "execution_count": 244,
   "metadata": {
    "hidden": true
   },
   "outputs": [
    {
     "name": "stdout",
     "output_type": "stream",
     "text": [
      "----\n",
      "----\n"
     ]
    }
   ],
   "source": [
    "f = open(\"rosalind_subs.txt\", \"r\")\n",
    "a = f.readlines()\n",
    "\n",
    "codon_table = {}\n",
    "for line, var in zip(a, [s, t]):\n",
    "    var = line.replace(\"\\n\", \"\")\n",
    "    print(\"----\")"
   ]
  },
  {
   "cell_type": "code",
   "execution_count": 245,
   "metadata": {
    "hidden": true
   },
   "outputs": [
    {
     "data": {
      "text/plain": [
       "'41 56 140 182 189 235 282 376 403 418 444 501 612 660 667 797 817 824 879 978 985'"
      ]
     },
     "execution_count": 245,
     "metadata": {},
     "output_type": "execute_result"
    }
   ],
   "source": [
    "find_substring_location(s, t)\n"
   ]
  },
  {
   "cell_type": "markdown",
   "metadata": {
    "heading_collapsed": true
   },
   "source": [
    "## RNA Splicing"
   ]
  },
  {
   "cell_type": "markdown",
   "metadata": {
    "hidden": true
   },
   "source": [
    "After identifying the exons and introns of an RNA string, we only need to delete the introns and concatenate the exons to form a new string ready for translation.\n",
    "\n",
    "Given: A DNA string s (of length at most 1 kbp) and a collection of substrings of s acting as introns. All strings are given in FASTA format.\n",
    "\n",
    "Return: A protein string resulting from transcribing and translating the exons of s. (Note: Only one solution will exist for the dataset provided.)"
   ]
  },
  {
   "cell_type": "code",
   "execution_count": 319,
   "metadata": {
    "hidden": true
   },
   "outputs": [],
   "source": [
    "def splice(seq, introns):\n",
    "    seq_out = seq\n",
    "    for int_i in introns:\n",
    "        loc = find_substring_location(seq_out, int_i)\n",
    "        i = int(loc) - 1\n",
    "        \n",
    "        seq_out = seq_out[0:i] + seq_out[i+len(int_i):]\n",
    "    return seq_out"
   ]
  },
  {
   "cell_type": "code",
   "execution_count": 322,
   "metadata": {
    "hidden": true
   },
   "outputs": [],
   "source": [
    "# s = \"ATGGTCTACATAGCTGACAAACAGCACGTAGCAATCGGTCGAATCTCGAGAGGCATATGGTCACATGATCGGTCGAGCGTGTTTCAAAGTTTGCGCCTAG\"\n",
    "# int1 = \"ATCGGTCGAA\"\n",
    "# int2 = \"ATCGGTCGAGCGTGT\""
   ]
  },
  {
   "cell_type": "code",
   "execution_count": 323,
   "metadata": {
    "hidden": true
   },
   "outputs": [],
   "source": [
    "# x = splice(s, [int1])\n",
    "# x"
   ]
  },
  {
   "cell_type": "code",
   "execution_count": 324,
   "metadata": {
    "hidden": true
   },
   "outputs": [],
   "source": [
    "# translate_strand(transcribe_strand(x), codon_table)"
   ]
  },
  {
   "cell_type": "code",
   "execution_count": 326,
   "metadata": {
    "hidden": true,
    "scrolled": true
   },
   "outputs": [
    {
     "data": {
      "text/plain": [
       "{'Rosalind_0588': 'ATGCAGGCTCATGAGAACTTAAGTAACATTCCTTTTGGTGGGACTGTTGATCCCTGATCGTGGCATGCAAATATTGAGGGGAGCTGACATGTGCTCAGTATTTTCCCCCGTCGGTAGAACGCCCAGCACCTCGATATAACGCTGCTCATGGCCATCGACGACACCTCCTTACGCGTTTATATGTGAACGCGCGTGCCCTTCCAATCTTTTGAGACGGCGAAATATCTCGATACACGCACGTACCATAGTCGACCGAGACTGGTATTGGTTTGGGACTTATATCGCAGGCTAATAAACTCACTAACGCAACACCCTTACCGTAGGTAAATTTTTGCAAACCGCTAGCACCAGACTAATGGATGCCTGCTGGGATCGTGTTCGGTGTGGCTAGGATCATTGTCCGCTCGCTATTGCTGGCTTGTCGTGTATCATATTGGCAGACGATGGGGGAGGAGTACTTGCCTCGGGTATTTAACTAACATAGCGTACTTCTTCGCCGGCTTTTCTCTCCCGGACTTCTAGCCGAAACCGTCAGAGGCACGTCTCTCGATAGCCCGGGAGATAGGCTGCCCATGCCCGTCTGCAGTGCCTCTGAACCCTTATCCTTTCTCCCGTCGGTTAAGTCTCCAGTCGTTAGGGGTCTCCGTCCAAAGGGGGAGGAGTTTCTGTCCAAAAAGCGGTCCTCTAGCAGTTACCAATACATGCACCCTCCCAGTGGCCCTCCACGTATCACGGAAACTGTGCGTGCCGCCCCTTTATATAACTGCAGATTGTTGGTTACGTTTACGGACTGGTAGCCTGCCATGTCGATGATCCGTCAATGGCTACGGTTCCGATCCCTAACCGTTGGTATTGTGACGCCGGTCGAGGCACAACCCCGAACATTTAGTGGGCACCGCAGAATACTACTCCCGTTTGGCAAATTAAGATTGCCGGGGATAGTGAGGAGAGGTCGTAA',\n",
       " 'Rosalind_4577': 'GATCCGTCAATGGCTACGGTTC',\n",
       " 'Rosalind_2712': 'GTCAGAGGCA',\n",
       " 'Rosalind_4037': 'CAGTATTTTCCCCCGTCGGTAG',\n",
       " 'Rosalind_5211': 'AGTGGGCACCGCAGAATACTACTCCCGTTTGG',\n",
       " 'Rosalind_0439': 'GAGGAGTTTCTGTCCA',\n",
       " 'Rosalind_7356': 'CCGAGACTGGTATTGGTTTGGGACTTATATCGCAGGCTAAT',\n",
       " 'Rosalind_3180': 'TCACGGAAACTGTGCGTGCCGCCCCTTTATATAACTGCAG',\n",
       " 'Rosalind_7457': 'CCTTTTGGTGGGACTGTTGATCCCTGATCGTGGCATGCAAATATTGAGGG',\n",
       " 'Rosalind_1227': 'CGATGGGGGAGGAGTACTTGCCTCGGGTATTTAACTAACATAGC',\n",
       " 'Rosalind_2727': 'TAGGTAAATTTTTGCAAACCGCTAGCACCAGA',\n",
       " 'Rosalind_8574': 'TGCCCGTCTGCAGTGCCTCTGAACCC',\n",
       " 'Rosalind_8759': 'CGCGTTTATATGTGAACGCGCGTG',\n",
       " 'Rosalind_2267': 'CGGTGTGGCTAGGATCATTGTCCGCTCGCTATTGCTGGCTTGTCGTG'}"
      ]
     },
     "execution_count": 326,
     "metadata": {},
     "output_type": "execute_result"
    }
   ],
   "source": [
    "f = read_fasta(\"rosalind_splc.txt\")\n",
    "f"
   ]
  },
  {
   "cell_type": "code",
   "execution_count": 328,
   "metadata": {
    "hidden": true
   },
   "outputs": [
    {
     "data": {
      "text/plain": [
       "('ATGCAGGCTCATGAGAACTTAAGTAACATTCCTTTTGGTGGGACTGTTGATCCCTGATCGTGGCATGCAAATATTGAGGGGAGCTGACATGTGCTCAGTATTTTCCCCCGTCGGTAGAACGCCCAGCACCTCGATATAACGCTGCTCATGGCCATCGACGACACCTCCTTACGCGTTTATATGTGAACGCGCGTGCCCTTCCAATCTTTTGAGACGGCGAAATATCTCGATACACGCACGTACCATAGTCGACCGAGACTGGTATTGGTTTGGGACTTATATCGCAGGCTAATAAACTCACTAACGCAACACCCTTACCGTAGGTAAATTTTTGCAAACCGCTAGCACCAGACTAATGGATGCCTGCTGGGATCGTGTTCGGTGTGGCTAGGATCATTGTCCGCTCGCTATTGCTGGCTTGTCGTGTATCATATTGGCAGACGATGGGGGAGGAGTACTTGCCTCGGGTATTTAACTAACATAGCGTACTTCTTCGCCGGCTTTTCTCTCCCGGACTTCTAGCCGAAACCGTCAGAGGCACGTCTCTCGATAGCCCGGGAGATAGGCTGCCCATGCCCGTCTGCAGTGCCTCTGAACCCTTATCCTTTCTCCCGTCGGTTAAGTCTCCAGTCGTTAGGGGTCTCCGTCCAAAGGGGGAGGAGTTTCTGTCCAAAAAGCGGTCCTCTAGCAGTTACCAATACATGCACCCTCCCAGTGGCCCTCCACGTATCACGGAAACTGTGCGTGCCGCCCCTTTATATAACTGCAGATTGTTGGTTACGTTTACGGACTGGTAGCCTGCCATGTCGATGATCCGTCAATGGCTACGGTTCCGATCCCTAACCGTTGGTATTGTGACGCCGGTCGAGGCACAACCCCGAACATTTAGTGGGCACCGCAGAATACTACTCCCGTTTGGCAAATTAAGATTGCCGGGGATAGTGAGGAGAGGTCGTAA',\n",
       " ['GATCCGTCAATGGCTACGGTTC',\n",
       "  'GTCAGAGGCA',\n",
       "  'CAGTATTTTCCCCCGTCGGTAG',\n",
       "  'AGTGGGCACCGCAGAATACTACTCCCGTTTGG',\n",
       "  'GAGGAGTTTCTGTCCA',\n",
       "  'CCGAGACTGGTATTGGTTTGGGACTTATATCGCAGGCTAAT',\n",
       "  'TCACGGAAACTGTGCGTGCCGCCCCTTTATATAACTGCAG',\n",
       "  'CCTTTTGGTGGGACTGTTGATCCCTGATCGTGGCATGCAAATATTGAGGG',\n",
       "  'CGATGGGGGAGGAGTACTTGCCTCGGGTATTTAACTAACATAGC',\n",
       "  'TAGGTAAATTTTTGCAAACCGCTAGCACCAGA',\n",
       "  'TGCCCGTCTGCAGTGCCTCTGAACCC',\n",
       "  'CGCGTTTATATGTGAACGCGCGTG',\n",
       "  'CGGTGTGGCTAGGATCATTGTCCGCTCGCTATTGCTGGCTTGTCGTG'])"
      ]
     },
     "execution_count": 328,
     "metadata": {},
     "output_type": "execute_result"
    }
   ],
   "source": [
    "introns = []\n",
    "seq = []\n",
    "\n",
    "for i, (key, vals) in enumerate(f.items()):\n",
    "    if i == 0:\n",
    "        seq = vals\n",
    "    else:\n",
    "        introns.append(vals)\n",
    "seq, introns"
   ]
  },
  {
   "cell_type": "code",
   "execution_count": 331,
   "metadata": {
    "hidden": true
   },
   "outputs": [
    {
     "data": {
      "text/plain": [
       "'ATGCAGGCTCATGAGAACTTAAGTAACATTGAGCTGACATGTGCTAACGCCCAGCACCTCGATATAACGCTGCTCATGGCCATCGACGACACCTCCTTACCCTTCCAATCTTTTGAGACGGCGAAATATCTCGATACACGCACGTACCATAGTCGAAAACTCACTAACGCAACACCCTTACCGCTAATGGATGCCTGCTGGGATCGTGTTTATCATATTGGCAGAGTACTTCTTCGCCGGCTTTTCTCTCCCGGACTTCTAGCCGAAACCCGTCTCTCGATAGCCCGGGAGATAGGCTGCCCATTATCCTTTCTCCCGTCGGTTAAGTCTCCAGTCGTTAGGGGTCTCCGTCCAAAGGGGAAAAGCGGTCCTCTAGCAGTTACCAATACATGCACCCTCCCAGTGGCCCTCCACGTAATTGTTGGTTACGTTTACGGACTGGTAGCCTGCCATGTCGATCGATCCCTAACCGTTGGTATTGTGACGCCGGTCGAGGCACAACCCCGAACATTTCAAATTAAGATTGCCGGGGATAGTGAGGAGAGGTCGTAA'"
      ]
     },
     "execution_count": 331,
     "metadata": {},
     "output_type": "execute_result"
    }
   ],
   "source": [
    "seq_spliced = splice(seq, introns)\n",
    "seq_spliced"
   ]
  },
  {
   "cell_type": "code",
   "execution_count": 332,
   "metadata": {
    "hidden": true
   },
   "outputs": [
    {
     "data": {
      "text/plain": [
       "'MQAHENLSNIELTCANAQHLDITLLMAIDDTSLPFQSFETAKYLDTRTYHSRKLTNATPLPLMDACWDRVYHIGRVLLRRLFSPGLLAETRLSIAREIGCPLSFLPSVKSPVVRGLRPKGKSGPLAVTNTCTLPVALHVIVGYVYGLVACHVDRSLTVGIVTPVEAQPRTFQIKIAGDSEERS*'"
      ]
     },
     "execution_count": 332,
     "metadata": {},
     "output_type": "execute_result"
    }
   ],
   "source": [
    "translate_strand(transcribe_strand(seq_spliced), codon_table)"
   ]
  },
  {
   "cell_type": "markdown",
   "metadata": {},
   "source": [
    "## S"
   ]
  },
  {
   "cell_type": "code",
   "execution_count": null,
   "metadata": {},
   "outputs": [],
   "source": []
  },
  {
   "cell_type": "code",
   "execution_count": null,
   "metadata": {},
   "outputs": [],
   "source": []
  }
 ],
 "metadata": {
  "kernelspec": {
   "display_name": "Python 3",
   "language": "python",
   "name": "python3"
  },
  "language_info": {
   "codemirror_mode": {
    "name": "ipython",
    "version": 3
   },
   "file_extension": ".py",
   "mimetype": "text/x-python",
   "name": "python",
   "nbconvert_exporter": "python",
   "pygments_lexer": "ipython3",
   "version": "3.8.3"
  }
 },
 "nbformat": 4,
 "nbformat_minor": 4
}
